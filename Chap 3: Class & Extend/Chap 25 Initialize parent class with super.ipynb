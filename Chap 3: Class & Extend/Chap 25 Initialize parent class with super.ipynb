{
 "cells": [
  {
   "cell_type": "markdown",
   "metadata": {},
   "source": [
    "# super로 부모 클래스를 초기화하자\n",
    "\n",
    "기존에는 자식 클래스에서 부모 클래스의 `__init__` 메서드를 직접 호출하는 방법으로 부모 클래스를 초기화했다."
   ]
  },
  {
   "cell_type": "code",
   "execution_count": 1,
   "metadata": {},
   "outputs": [],
   "source": [
    "class MyBaseClass(object):\n",
    "    def __init__(self, value):\n",
    "        self.value = value\n",
    "        \n",
    "class MyChildClass(MyBaseClass):\n",
    "    def __init__(self):\n",
    "        MyBaseClass.__init__(self, 5)"
   ]
  },
  {
   "cell_type": "markdown",
   "metadata": {},
   "source": [
    "간단한 계층 구조에는 잘 동작하지만 많은 경우 제대로 동작하지 못한다.\n",
    "\n",
    "클래스가 다중 상속의 영향을 받는다면 superclass의 `__init__` 메서드를 직접 호출하는 행위는 문제를 일으킬 수 있다.  \n",
    "한 가지 문제는 `__init__`의 호출 순서가 모든 서브클래스에 걸쳐 명시되어 있지 않다는 점이다.\n",
    "\n",
    "인스턴스의 value 필드로 연산을 수행하는 부모 클래스 정의"
   ]
  },
  {
   "cell_type": "code",
   "execution_count": 2,
   "metadata": {},
   "outputs": [],
   "source": [
    "class TimesTwo(object):\n",
    "    def __init__(self):\n",
    "        self.value *= 2\n",
    "        \n",
    "class PlusFive(object):\n",
    "    def __init__(self):\n",
    "        self.value += 5"
   ]
  },
  {
   "cell_type": "markdown",
   "metadata": {},
   "source": [
    "다음 클래스는 한 가지 순서로 부모 클래스들을 정의한다."
   ]
  },
  {
   "cell_type": "code",
   "execution_count": 3,
   "metadata": {},
   "outputs": [],
   "source": [
    "class OneWay(MyBaseClass, TimesTwo, PlusFive):\n",
    "    def __init__(self, value):\n",
    "        MyBaseClass.__init__(self, value)\n",
    "        TimesTwo.__init__(self)\n",
    "        PlusFive.__init__(self)"
   ]
  },
  {
   "cell_type": "markdown",
   "metadata": {},
   "source": [
    "이 클래스의 인스턴스를 생성하면 부모 클래스의 순서와 일치하는 결과가 만들어진다."
   ]
  },
  {
   "cell_type": "code",
   "execution_count": 4,
   "metadata": {},
   "outputs": [
    {
     "name": "stdout",
     "output_type": "stream",
     "text": [
      "First ordering is (5 * 2) + 5 = 15\n"
     ]
    }
   ],
   "source": [
    "foo = OneWay(5)\n",
    "print('First ordering is (5 * 2) + 5 =', foo.value)"
   ]
  },
  {
   "cell_type": "markdown",
   "metadata": {},
   "source": [
    "다음과 같은 부모 클래스들을 다른 순서로 정의한 클래스다."
   ]
  },
  {
   "cell_type": "code",
   "execution_count": 6,
   "metadata": {},
   "outputs": [],
   "source": [
    "class AnotherWay(MyBaseClass, PlusFive, TimesTwo):\n",
    "    def __init__(self, value):\n",
    "        MyBaseClass.__init__(self, value)\n",
    "        TimesTwo.__init__(self)\n",
    "        PlusFive.__init__(self)"
   ]
  },
  {
   "cell_type": "markdown",
   "metadata": {},
   "source": [
    "하지만 부모 클래스 생성자를 이전과 같은 순서로 호출한다. 따라서 클래스의 동작은 부모 클래스를 정의한 순서와 일치하지 않는다."
   ]
  },
  {
   "cell_type": "code",
   "execution_count": 7,
   "metadata": {},
   "outputs": [
    {
     "name": "stdout",
     "output_type": "stream",
     "text": [
      "Second ordering still is 15\n"
     ]
    }
   ],
   "source": [
    "bar = AnotherWay(5)\n",
    "print('Second ordering still is', bar.value)"
   ]
  },
  {
   "cell_type": "markdown",
   "metadata": {},
   "source": [
    "다른 문제는 다이아몬드 상속(`diamond inheritance`)이다.  \n",
    "서브 클래스가 계층 구조에서 같은 superclass를 둔 서로 다른 두 클래스에서 상속받을 때 발생한다.  \n",
    "공통 슈퍼클래스의 `__init__` method를 여러 번 실행하게 해서 예상치 못한 동작을 일으킨다."
   ]
  },
  {
   "cell_type": "code",
   "execution_count": 10,
   "metadata": {},
   "outputs": [],
   "source": [
    "class TimesFive(MyBaseClass):\n",
    "    def __init__(self, value):\n",
    "        MyBaseClass.__init__(self, value)\n",
    "        self.value *= 5"
   ]
  },
  {
   "cell_type": "code",
   "execution_count": 11,
   "metadata": {},
   "outputs": [],
   "source": [
    "class PlusTwo(MyBaseClass):\n",
    "    def __init__(self, value):\n",
    "        MyBaseClass.__init__(self, value)\n",
    "        self.value += 2"
   ]
  },
  {
   "cell_type": "code",
   "execution_count": 12,
   "metadata": {},
   "outputs": [],
   "source": [
    "class ThisWay(TimesFive, PlusTwo):\n",
    "    def __init__(self, value):\n",
    "        TimesFive.__init__(self, value)\n",
    "        PlusTwo.__init__(self, value)"
   ]
  },
  {
   "cell_type": "code",
   "execution_count": 13,
   "metadata": {},
   "outputs": [
    {
     "name": "stdout",
     "output_type": "stream",
     "text": [
      "Should be (5 * 5) + 2 = 27 but is 7\n"
     ]
    }
   ],
   "source": [
    "foo = ThisWay(5)\n",
    "print('Should be (5 * 5) + 2 = 27 but is', foo.value)"
   ]
  },
  {
   "cell_type": "markdown",
   "metadata": {},
   "source": [
    "결과가 27이 아닌 이유는 `PlusTwo.__init__`를 호출하는 코드가 있어서 `MyBaseClass.__init__`가 두 번째 호출될 때 `self.value`를 다시 5로 리셋한다.\n",
    "\n",
    "Python2.2에서는 이 문제를 해결하려고 super라는 내장 함수를 추가하고 method 해석 순서(`MRO`, Method Resolution Order)를 정의했다.  \n",
    "MRO는 어떤 superclass로부터 초기화하는지를 정한다. 또한 다이아몬드 계층 구조에 있는 공통 superclass를 단 한 번만 실행하게 한다."
   ]
  },
  {
   "cell_type": "markdown",
   "metadata": {},
   "source": [
    "```py\n",
    "class TimesFiveCorrect(MyBaseClass):\n",
    "    def __init__(self, value):\n",
    "        super(TimesFiveCorrect, self).__init__(value)\n",
    "        self.value *= 5\n",
    "        \n",
    "class PlusTwoCorrect(MyBaseClass):\n",
    "    def __init__(self, value):\n",
    "        super(PlusTwoCorrect, self).__init__(value)\n",
    "        self.value += 2\n",
    "        \n",
    "class GoodWay(TimesFiveCorrect, PlusTwoCorrect):\n",
    "    def __init__(self, value):\n",
    "        super(GoodWay, self).__init__(value)\n",
    "        \n",
    "foo = GoodWay(5)\n",
    "print 'Should be 5 * (5 + 2) = 35 and is', foo.value\n",
    "\n",
    ">>>\n",
    "Should be 5 * (5 + 2) = 35 and is 35\n",
    "```\n",
    "\n",
    "이 순서는 뒤와 같은데 class 에 대해 MRO가 정의하는 순서와 일치한다. 따라서 연산 순서를 변경할 수 없다.\n",
    "\n",
    "```py\n",
    "from pprint import pprint\n",
    "pprint(GoodWay.mro())\n",
    "\n",
    ">>>\n",
    "[<class '__main__.GoodWay'>,\n",
    "<class '__main__.TimesFiveCorrect'>,\n",
    "<class '__main__.PlusTwoCorrect'>,\n",
    "<class '__main__.MyBaseClass'>,\n",
    "<class 'object'>]\n",
    "```\n",
    "\n",
    "GoodWay(5)를 호출 --> `TimesFiveCorrrect.__init__` --> `PlusTwoCorrect.__init__` --> `MyBaseClass.__init__` --> value에 5 할당 --> `PlusTwoCorrect.__init__`는 2를 더해서 7 --> `TimesFiveCorrect.__init__`는 5를 곱해서 value는 35\n",
    "\n",
    "## Python2의 문제점\n",
    "\n",
    "1. 문법이 장황하다. 현재 정의하는 클래스, self 객체, 메서드 이름(보통 `__init__`)과 모든 인수 설정 필요\n",
    "2. super를 호출하면서 현재 클래ㅡㅅ의 이름을 지정해야 함. 클래스의 이름 변경 시 super호출하는 모든 코드 수정 필요"
   ]
  },
  {
   "cell_type": "markdown",
   "metadata": {},
   "source": [
    "Python3에서는 super를 인수 없이 호출하면 `__class__`와 self를 인수로 넘겨서 호출한 것으로 처리해서 이 문제를 해결한다. Python3에서는 항상 super를 사용해야 한다. super는 명확하고 간결하며 항상 제대로 동작하기 때문이다."
   ]
  },
  {
   "cell_type": "code",
   "execution_count": 14,
   "metadata": {},
   "outputs": [],
   "source": [
    "class Explicit(MyBaseClass):\n",
    "    def __init__(self, value):\n",
    "        super(__class__, self).__init__(value * 2)"
   ]
  },
  {
   "cell_type": "code",
   "execution_count": 17,
   "metadata": {},
   "outputs": [],
   "source": [
    "class Implicit(MyBaseClass):\n",
    "    def __init__(self, value):\n",
    "        super().__init__(value * 2)"
   ]
  },
  {
   "cell_type": "code",
   "execution_count": 18,
   "metadata": {},
   "outputs": [],
   "source": [
    "assert Explicit(10).value == Implicit(10).value"
   ]
  },
  {
   "cell_type": "markdown",
   "metadata": {},
   "source": [
    "Python3에서는 `__class__` 변수를 사용한 메서드에서 현재 클래스를 올바르게 참조하도록 해주므로 위 코드가 잘 동작하지만 Python2 에서는 `__class__`가 정의되어 있지 않아 제대로 동작하지 않는다. super의 인수로 `self.__class__`를 사용하면 될 거라고 생각 할 수도 있지만, Python2의 super 구현 방식 때문에 제대로 동작하지 않는다."
   ]
  }
 ],
 "metadata": {
  "kernelspec": {
   "display_name": "Python 3",
   "language": "python",
   "name": "python3"
  },
  "language_info": {
   "codemirror_mode": {
    "name": "ipython",
    "version": 3
   },
   "file_extension": ".py",
   "mimetype": "text/x-python",
   "name": "python",
   "nbconvert_exporter": "python",
   "pygments_lexer": "ipython3",
   "version": "3.8.5"
  }
 },
 "nbformat": 4,
 "nbformat_minor": 4
}
