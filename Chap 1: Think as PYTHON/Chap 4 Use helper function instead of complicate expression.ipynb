{
 "cells": [
  {
   "cell_type": "markdown",
   "metadata": {},
   "source": [
    "# 복잡한 표현식 대신 핼퍼 함수를 작성하자\n",
    "\n",
    "    Python의 간결한 문법을 이용하면 많은 로직을 표현식 한 줄로 쉽게 작성할 수 있다.\n",
    "\n",
    "    예를 들어 URL에서 쿼리 문자열을 decode 할때 각 쿼리 문자열 파라미터는 정수 값을 표현한다."
   ]
  },
  {
   "cell_type": "code",
   "execution_count": 2,
   "metadata": {},
   "outputs": [
    {
     "name": "stdout",
     "output_type": "stream",
     "text": [
      "{'red': ['5'], 'blue': ['0'], 'green': ['']}\n"
     ]
    }
   ],
   "source": [
    "from urllib.parse import parse_qs\n",
    "\n",
    "my_values = parse_qs('red=5&blue=0&green=',\n",
    "                    keep_blank_values=True)\n",
    "print(repr(my_values))\n",
    "\n",
    "# Python2에서는 urllib.parse 대신 urlparse 모듈을 쓰면 됨"
   ]
  },
  {
   "cell_type": "markdown",
   "metadata": {},
   "source": [
    "쿼리 문자열 파라미터에 따라 값이 다양하다. 결과 dictionary에 get method를 사용하면 각 상황에 따라 다른 값을 반환할 것이다."
   ]
  },
  {
   "cell_type": "code",
   "execution_count": 3,
   "metadata": {},
   "outputs": [
    {
     "name": "stdout",
     "output_type": "stream",
     "text": [
      "Red:      ['5']\n",
      "Green:    ['']\n",
      "Opacity:  None\n"
     ]
    }
   ],
   "source": [
    "print('Red:     ', my_values.get('red'))\n",
    "print('Green:   ', my_values.get('green'))\n",
    "print('Opacity: ', my_values.get('opacity'))"
   ]
  },
  {
   "cell_type": "markdown",
   "metadata": {},
   "source": [
    "__파라미터가 없거나 비어있으면 기본 값으로 0__ 을 할당하게 하면 좋다.  \n",
    "이 로직에 if 문이나 핼퍼 함수를 쓸 필요까지는 없다고 느끼고 작업을 boolean 표현식으로 처리하는 방법을 선택할 수도 있다.\n",
    "\n",
    "파이썬의 문법 덕분에 boolean 표현식으로도 쉽게 처리가 가능하다. __이때 사용하는 트릭은 빈 문자열, 빈 리스트, 0이 모두 암시적으로 False로 평가되는 점이다.__ 따라서 다음 표현식들의 결과는 처 번째 서브 표현식이 False일 때 or 연산자 뒤에 오는 서브 표현식을 평가한 값이 된다."
   ]
  },
  {
   "cell_type": "code",
   "execution_count": 20,
   "metadata": {},
   "outputs": [
    {
     "name": "stdout",
     "output_type": "stream",
     "text": [
      "Red:     '5'\n",
      "Green:   0\n",
      "Opacity: 0\n"
     ]
    }
   ],
   "source": [
    "# 퀴리 문자열: 'red=5&blue=0&green='\n",
    "red = my_values.get('red', [''])[0] or 0\n",
    "green = my_values.get('green', [''])[0] or 0\n",
    "opacity = my_values.get('opacity', [''])[0] or 0\n",
    "print('Red:     %r' % red)\n",
    "print('Green:   %r' % green)\n",
    "print('Opacity: %r' % opacity)"
   ]
  },
  {
   "cell_type": "markdown",
   "metadata": {},
   "source": [
    "__red는 키가 my_values dictionary에 있다.__  \n",
    "같은 멤버 하나만 있는 리스트이다. 암시적으로 True가 되므로 red는 or 표현식의 첫 번째 부분을 할당받는다.\n",
    "\n",
    "__green의 경우는 my_values dictionary의 값이 멤버 하나(빈 문자열)만 있는 리스트다.__  \n",
    "빈 문자열은 암시적으로 False이므로 or 표현식의 결과는 0이 된다.\n",
    "\n",
    "__opacity의 경우는 my_values dictionary에 값이 존재하지 않는다.__  \n",
    "get method는 key가 dictionary에 없으면 두 번재 인수를 반환한다. 이때 기본값은 멤버 하나(빈 문자열)만 있는 리스트다. opacity가 dictionary에 없을 경우 green과 동일한 동작을 수행한다."
   ]
  },
  {
   "cell_type": "markdown",
   "metadata": {},
   "source": [
    "하지만 위 코드는 읽기 어려우며 필요한 작업을 다 수행하지도 않는다. 모든 파라미터 값이 정수가 되게 해서 수학식에서도 값들을 사용할 수 있게 하려면 내장 함수 int로 처리해서 문자열을 정수 값으로 parsing해야 한다."
   ]
  },
  {
   "cell_type": "code",
   "execution_count": 8,
   "metadata": {},
   "outputs": [],
   "source": [
    "red = int(my_values.get('red', [''])[0] or 0)"
   ]
  },
  {
   "cell_type": "markdown",
   "metadata": {},
   "source": [
    "문장이 잛아서 좋을 수는 있지만 한줄에 모든 코드를 집어넣는 건 큰 의미가 없다."
   ]
  },
  {
   "cell_type": "markdown",
   "metadata": {},
   "source": [
    "Python2.5에 추가된 if/else문을 사용하면 코드를 짧게 유지하며 명확한 표현이 가능하다."
   ]
  },
  {
   "cell_type": "code",
   "execution_count": 9,
   "metadata": {},
   "outputs": [],
   "source": [
    "red = my_values.get('red', [''])\n",
    "red = int(red[0]) if red[0] else 0"
   ]
  },
  {
   "cell_type": "markdown",
   "metadata": {},
   "source": [
    "덜 복잡한 상황에서는 if/else 조건식을 쓰면 코드를 명확하게 이해할 수 있다. 하지만 여러 줄에 걸친 if/else 문을 대체할 정도로 명확하지는 않다."
   ]
  },
  {
   "cell_type": "code",
   "execution_count": 21,
   "metadata": {},
   "outputs": [],
   "source": [
    "green = my_values.get('green', [''])\n",
    "if green[0]:\n",
    "    green = int(green[0])\n",
    "else:\n",
    "    green = 0"
   ]
  },
  {
   "cell_type": "markdown",
   "metadata": {},
   "source": [
    "이 로직을 반복해서 사용한다면 헬퍼 함수를 사용하는게 좋다."
   ]
  },
  {
   "cell_type": "code",
   "execution_count": 22,
   "metadata": {},
   "outputs": [],
   "source": [
    "def get_first_int(values, key, default=0):\n",
    "    found = values.get(key, [''])\n",
    "    if found[0]:\n",
    "        found = int(found[0])\n",
    "    else:\n",
    "        found = default\n",
    "    return found"
   ]
  },
  {
   "cell_type": "markdown",
   "metadata": {},
   "source": [
    "위 헬퍼 함수를 쓰면 호출 코드를 명확히 할 수 있다."
   ]
  },
  {
   "cell_type": "code",
   "execution_count": 23,
   "metadata": {},
   "outputs": [],
   "source": [
    "green = get_first_int(my_values, 'green')"
   ]
  },
  {
   "cell_type": "markdown",
   "metadata": {},
   "source": [
    "표현식이 복잡해지면 해당 표현식을 작은 조각으로 분할하고 로직을 헬퍼 함수로 옮기는 것을 고려해야 한다.  \n",
    "무조건 짧은 코드보다는 가독성이 중요하다. 이해하기 어려운 복잡한 표현식에는 함축적인 문법을 사용하면 안 된다."
   ]
  },
  {
   "cell_type": "markdown",
   "metadata": {},
   "source": [
    "## 정리\n",
    "\n",
    "- Python 문법을 이용해 축약한 표현은 이해하기 어렵다.\n",
    "- 복잡한 표현식은 헬퍼 함수로 넘기는 것이 좋다.\n",
    "- if/else 표현식을 이용하면 or 나 and 같은 boolean 연산자를 사용할 때보다 가독성이 좋은 코드를 만들 수 있다."
   ]
  }
 ],
 "metadata": {
  "kernelspec": {
   "display_name": "Python 3",
   "language": "python",
   "name": "python3"
  },
  "language_info": {
   "codemirror_mode": {
    "name": "ipython",
    "version": 3
   },
   "file_extension": ".py",
   "mimetype": "text/x-python",
   "name": "python",
   "nbconvert_exporter": "python",
   "pygments_lexer": "ipython3",
   "version": "3.8.5"
  }
 },
 "nbformat": 4,
 "nbformat_minor": 4
}
