{
 "cells": [
  {
   "cell_type": "markdown",
   "metadata": {},
   "source": [
    "# 이터레이터를 병렬로 처리하려면 zip을 사용하자\n",
    "\n",
    "Python에서 관련 객체로 구성된 리스트를 많이 사용한다는 사실은 쉽게 알 수 있다. __list comprehension을 사용하면 source list에 표현식을 적용하여 파생 리스트(derived list)를 쉽게 얻을 수 있다.__"
   ]
  },
  {
   "cell_type": "code",
   "execution_count": 1,
   "metadata": {},
   "outputs": [],
   "source": [
    "names = ['Cecilia', 'Lise', 'Marie']\n",
    "letters = [len(n) for n in names]"
   ]
  },
  {
   "cell_type": "markdown",
   "metadata": {},
   "source": [
    "### 파생 리스트의 아이템과 소스 리스트의 아이템은 서로의 index로 연관되어있다. \n",
    "\n",
    "따라서 두 리스트를 병렬로 순회하려면 source list인 names의 길이만큼 순회하면 된다."
   ]
  },
  {
   "cell_type": "code",
   "execution_count": 3,
   "metadata": {},
   "outputs": [
    {
     "name": "stdout",
     "output_type": "stream",
     "text": [
      "Cecilia\n"
     ]
    }
   ],
   "source": [
    "longest_name = None\n",
    "max_letters = 0\n",
    "\n",
    "for i in range(len(names)):\n",
    "    count = letters[i]\n",
    "    if count > max_letters:\n",
    "        longest_name = names[i]\n",
    "        max_letters = count\n",
    "\n",
    "print(longest_name)"
   ]
  },
  {
   "cell_type": "markdown",
   "metadata": {},
   "source": [
    "### enumerate를 통해 개선"
   ]
  },
  {
   "cell_type": "code",
   "execution_count": 4,
   "metadata": {},
   "outputs": [
    {
     "name": "stdout",
     "output_type": "stream",
     "text": [
      "Cecilia\n"
     ]
    }
   ],
   "source": [
    "for i, name in enumerate(names):\n",
    "    count = letters[i]\n",
    "    if count > max_letters:\n",
    "        longest_name = names[i]\n",
    "        max_letters = count\n",
    "        \n",
    "print(longest_name)"
   ]
  },
  {
   "cell_type": "markdown",
   "metadata": {},
   "source": [
    "### zip\n",
    "\n",
    "__Python3에서 zip은 lazy generator로 iterator 두 개 이상을 감싼다.__ zip generator는 각 iterator로부터 다음 값을 담은 tuple을 얻어온다. zip generator를 사용한 코드는 다중 리스트에서 index로 접근하는 코드보다 훨씬 명료하다."
   ]
  },
  {
   "cell_type": "code",
   "execution_count": 5,
   "metadata": {},
   "outputs": [
    {
     "name": "stdout",
     "output_type": "stream",
     "text": [
      "Cecilia\n"
     ]
    }
   ],
   "source": [
    "for name, count in zip(names, letters):\n",
    "    if count > max_letters:\n",
    "        longest_name = name\n",
    "        max_letters = count\n",
    "        \n",
    "print(longest_name)"
   ]
  },
  {
   "cell_type": "markdown",
   "metadata": {},
   "source": [
    "## zip의 두가지 문제점\n",
    "\n",
    "### 1. Python2 에서 제공하는 zip이 generator가 아니다.\n",
    "\n",
    "제공한 iterator를 완전히 순회해서 zip으로 생성한 모든 tuple을 반환한다. 이 과정에서 메모리를 많이 사용한다.\n",
    "\n",
    "__Python2에서 매우 큰 iterator를 zip으로 묶어 사용하려면 내장 모듈 itertools에 있는 izip을 사용해야 한다.__\n",
    "\n",
    "### 2. 입력 iterator들의 길이가 다르면 zip이 이상하게 동작한다.\n",
    "\n",
    "예를 들어 names 리스트에 다른 이름을 추가했지만 letters의 카운터를 업데이트하는 것을 잊었을 경우, 두 입력 리스트에 zip을 실행하면 예상치 못한 결과가 나온다."
   ]
  },
  {
   "cell_type": "code",
   "execution_count": 6,
   "metadata": {},
   "outputs": [
    {
     "name": "stdout",
     "output_type": "stream",
     "text": [
      "Cecilia\n",
      "Lise\n",
      "Marie\n"
     ]
    }
   ],
   "source": [
    "names.append('Rosalind')\n",
    "for name, count in zip(names, letters):\n",
    "    print(name)"
   ]
  },
  {
   "cell_type": "markdown",
   "metadata": {},
   "source": [
    "__list comprehension에서 생성된 파생 리스트의 경우와 같이 iterator들의 길이가 같을 때는 제대로 동작하지만 그 외에서는 잘 동작하지 않는다.__  \n",
    "zip으로 실행할 리스트의 길이가 같다고 확신할 수 없다면 대신 내장 모듈 itertools의 zip_longest를 사용하는 방법이 있다."
   ]
  }
 ],
 "metadata": {
  "kernelspec": {
   "display_name": "Python 3",
   "language": "python",
   "name": "python3"
  },
  "language_info": {
   "codemirror_mode": {
    "name": "ipython",
    "version": 3
   },
   "file_extension": ".py",
   "mimetype": "text/x-python",
   "name": "python",
   "nbconvert_exporter": "python",
   "pygments_lexer": "ipython3",
   "version": "3.8.5"
  }
 },
 "nbformat": 4,
 "nbformat_minor": 4
}
