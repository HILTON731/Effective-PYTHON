{
 "cells": [
  {
   "cell_type": "markdown",
   "metadata": {},
   "source": [
    "# try/except/else/finally에서 각 블록의 장점을 이용하자\n",
    "\n",
    "Python에는 예외 처리 과정에서 동작을 넣을 수 있는 네 번의 구분되는 시점이 있다. try, except, else, finally 블록 기능으로 각 시점을 처리한다. 각 블록은 복합문에서 독자적인 목적이 있으며, 이를 조합하면 유용하다."
   ]
  },
  {
   "cell_type": "markdown",
   "metadata": {},
   "source": [
    "## finally 블록\n",
    "\n",
    "__예외를 전달하고 싶지만, 예외가 발생해도 정리 코드를 실행하고 싶을 때 try/finally를 사용하면 된다.__\n",
    "\n",
    "다음 예는 파일 핸들러를 제대로 종료하는 작업이다."
   ]
  },
  {
   "cell_type": "code",
   "execution_count": 4,
   "metadata": {},
   "outputs": [],
   "source": [
    "with open('/tmp/random_data.txt', 'w') as f:\n",
    "    for i in range(10):\n",
    "        f.write('example is just example %d\\n' % i)  # 내가 만든 임시 파일\n",
    "\n",
    "handle = open('/tmp/random_data.txt')  # IOError가 일어날 수 있음\n",
    "try:\n",
    "    data = handle.read()  # UnicodeDecodeError가 일어날 수 있음\n",
    "finally:\n",
    "    handle.close()        # try: 이후에 항상 실행됨"
   ]
  },
  {
   "cell_type": "markdown",
   "metadata": {},
   "source": [
    "__read method에서 발생한 예외는 항상 호출 코드까지 전달되며, handle의 close method 또한 finally 블록에서 실행되는 것이 보장된다.__\n",
    "파일이 없을 때 일어나는 IOError처럼, 파일을 열 때 일어나는 예외는 finally 블록에서 처리하지 않아야 하므로 try 블록 앞에서 open을 호출해야 한다."
   ]
  },
  {
   "cell_type": "markdown",
   "metadata": {},
   "source": [
    "## else 블록\n",
    "\n",
    "코드에서 어떤 예외를 처리하고 어떤 예외를 전달할지를 명확하게 하려면 try/except/else를 사용해야 한다. __try 블록이 예외를 일으키지 않으면 else 블록이 실행된다.__ else 블록을 사용하면 try 블록의 코드를 최소로 줄이고 가독성을 높일 수 있다.\n",
    "\n",
    "예를 들어 문자열에서 JSON dictionary data를 로드하여 그 안에 든 키의 값을 반환한다고 하자"
   ]
  },
  {
   "cell_type": "code",
   "execution_count": 5,
   "metadata": {},
   "outputs": [],
   "source": [
    "def load_json_key(data, key):\n",
    "    try:\n",
    "        result_dict = json.loads(data)  # ValueError가 일어날 수 있음\n",
    "    except ValueError as e:\n",
    "        raise KeyError from e\n",
    "    else:\n",
    "        return result_dict[key]         # KeyError가 일어날 수 있음"
   ]
  },
  {
   "cell_type": "markdown",
   "metadata": {},
   "source": [
    "올바른 JSON이 아니라면 json.loads로 decode 시 ValueError가 발생한다. 이 예외는 excpet 블록에서 발견되어 처리된다. __디코딩이 성공하면 else 블록에서 키를 찾는다.__ else 절은 try/except 다음에 나오는 처리를 시각적으로 except 블록과 구분해준다."
   ]
  },
  {
   "cell_type": "markdown",
   "metadata": {},
   "source": [
    "## 모두 함께 사용하기\n",
    "\n",
    "__복합문 하나로 모든 것을 처리하고 싶다면 try/except/else/finally를 사용하면 된다.__\n",
    "\n",
    "예를 들어 파일에서 수행할 작업 설명을 읽고 처리한 후 즉석에서 파일을 업데이트 한다고 가정할때,  \n",
    "try 블록은 파일을 읽고 처리하는데 사용한다.  \n",
    "except 블록은 일어난 예외를 처리하는데 사용한다.  \n",
    "else 블록은 파일을 즉석에서 업데이트하고 이와 관련된 예외가 전달되게 하는 데 사용한다.  \n",
    "finally 블록은 파일 핸들을 정리하는 데 사용한다."
   ]
  },
  {
   "cell_type": "code",
   "execution_count": 6,
   "metadata": {},
   "outputs": [],
   "source": [
    "UNDEFINED = object()\n",
    "\n",
    "def divide_json(path):\n",
    "    handle = open(path, 'r+')    # IOError가 일어날 수 있음\n",
    "    try:\n",
    "        data = handle.read()     # UnicodeDecodeError가 일어날 수 있음\n",
    "        op = json.loads(data)    # ValueError가 일어날 수 있음\n",
    "        value = (\n",
    "        op['numerator'] /\n",
    "        op['denominator'])       # ZeroDivisionError가 일어날 수 있음\n",
    "    except ZeroDivisionError as e:\n",
    "        return UNDEFINED\n",
    "    else:\n",
    "        op['result'] = value\n",
    "        result = json.dumps(op)\n",
    "        handle.seek(0)\n",
    "        handle.write(result)    # IOError가 일어날 수 있음\n",
    "        return value\n",
    "    finally:\n",
    "        handle.close()          # 항상 실행함"
   ]
  },
  {
   "cell_type": "markdown",
   "metadata": {},
   "source": [
    "## 이 레이아웃은 모든 블록이 직관적인 방식으로 엮여서 동작하므로 특히 유용하다.\n",
    "\n",
    "예를 들어 결과 데이터를 재작성하는 동안에 else 블록에서 예외가 일어나도 finally 블록은 여전히 실행되어 파일 핸들을 닫는다."
   ]
  }
 ],
 "metadata": {
  "kernelspec": {
   "display_name": "Python 3",
   "language": "python",
   "name": "python3"
  },
  "language_info": {
   "codemirror_mode": {
    "name": "ipython",
    "version": 3
   },
   "file_extension": ".py",
   "mimetype": "text/x-python",
   "name": "python",
   "nbconvert_exporter": "python",
   "pygments_lexer": "ipython3",
   "version": "3.8.5"
  }
 },
 "nbformat": 4,
 "nbformat_minor": 4
}
