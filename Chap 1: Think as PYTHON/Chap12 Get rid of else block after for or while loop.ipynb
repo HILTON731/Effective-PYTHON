{
 "cells": [
  {
   "cell_type": "markdown",
   "metadata": {},
   "source": [
    "# for와 while 루프 뒤에는 else 블록을 쓰지 말자\n",
    "\n",
    "Python의 루프에서 반복된느 내부 블록 다음에 else 블록을 둘 수 있다."
   ]
  },
  {
   "cell_type": "code",
   "execution_count": 1,
   "metadata": {},
   "outputs": [
    {
     "name": "stdout",
     "output_type": "stream",
     "text": [
      "Loop 0\n",
      "Loop 1\n",
      "Loop 2\n",
      "Else block!\n"
     ]
    }
   ],
   "source": [
    "for i in range(3):\n",
    "    print('Loop %d' % i)\n",
    "else:\n",
    "    print('Else block!')"
   ]
  },
  {
   "cell_type": "markdown",
   "metadata": {},
   "source": [
    "## else 블록이 실행되는 이유\n",
    "\n",
    "else는 이전 블록이 실행되지 않으면 이 블록이 실행된다는 의미다. try/except 문에서 except도 마찬가지로 정의 할 수 있다.  \n",
    "유사하게 try/except/else의 else도 '이전 블록이 실패하지 않으면 실행하라'는 의미다. try/finally도 유사하므로 이해가 쉽다.\n",
    "\n",
    "## Python에서 else, except, finally 개념은 for/else의 의미와 반대다\n",
    "\n",
    "루프에서 break 문을 사용해야 else 블록을 건너뛸 수 있다."
   ]
  },
  {
   "cell_type": "code",
   "execution_count": 2,
   "metadata": {},
   "outputs": [
    {
     "name": "stdout",
     "output_type": "stream",
     "text": [
      "Loop 0\n",
      "Loop 1\n"
     ]
    }
   ],
   "source": [
    "for i in range(3):\n",
    "    print('Loop %d' % i)\n",
    "    if i == 1:\n",
    "        break\n",
    "else:\n",
    "    print('Else block!')"
   ]
  },
  {
   "cell_type": "markdown",
   "metadata": {},
   "source": [
    "## 빈 시퀀스를 처리하는 루프문에서도 else 블록이 즉시 실행된다."
   ]
  },
  {
   "cell_type": "code",
   "execution_count": 3,
   "metadata": {},
   "outputs": [
    {
     "name": "stdout",
     "output_type": "stream",
     "text": [
      "for Else block!\n"
     ]
    }
   ],
   "source": [
    "for x in []:\n",
    "    print('Never runs')\n",
    "else:\n",
    "    print('for Else block!')"
   ]
  },
  {
   "cell_type": "markdown",
   "metadata": {},
   "source": [
    "## else 블록은 while 루프가 처음부터 거짓인 경우에도 실행된다."
   ]
  },
  {
   "cell_type": "code",
   "execution_count": 4,
   "metadata": {},
   "outputs": [
    {
     "name": "stdout",
     "output_type": "stream",
     "text": [
      "While Else block!\n"
     ]
    }
   ],
   "source": [
    "while False:\n",
    "    print('Never runs')\n",
    "else:\n",
    "    print('While Else block!')"
   ]
  },
  {
   "cell_type": "markdown",
   "metadata": {},
   "source": [
    "## else 블록의 동작 방식 이유\n",
    "\n",
    "루프 다음에 오는 else 블록은 루프로 뭔가를 검색할 때 유용하기 때문이다.\n",
    "\n",
    "예를 들어 두 숫자가 서로소(coprime)인지 판별할 때, 가능한 모든 공약수를 구하고 숫자를 테스트해본다. 모든 옵션을 시도한 후 루프가 끝난다. else 블록은 루프가 break를 만나지 않아서 숫자가 서로소일 때 실행된다."
   ]
  },
  {
   "cell_type": "code",
   "execution_count": 5,
   "metadata": {},
   "outputs": [
    {
     "name": "stdout",
     "output_type": "stream",
     "text": [
      "Testing 2\n",
      "Testing 3\n",
      "Testing 4\n",
      "Coprime\n"
     ]
    }
   ],
   "source": [
    "a = 4\n",
    "b = 9\n",
    "for i in range(2, min(a, b) + 1):\n",
    "    print('Testing', i)\n",
    "    if a % i == 0 and b % i == 0:\n",
    "        print('Not coprime')\n",
    "        break\n",
    "else:\n",
    "    print('Coprime')"
   ]
  },
  {
   "cell_type": "markdown",
   "metadata": {},
   "source": [
    "## 헬퍼 함수 활용 2가지 방안\n",
    "\n",
    "### 1. 찾으려는 조건을 찾았을 때 바로 반환한다.\n",
    "\n",
    "루프가 실패로 끝나면 기본 결과(True)를 반환한다."
   ]
  },
  {
   "cell_type": "code",
   "execution_count": 6,
   "metadata": {},
   "outputs": [],
   "source": [
    "def coprime(a, b):\n",
    "    for i in range(2, min(a, b) + 1):\n",
    "        if a % i == 0 and b % i == 0:\n",
    "            return False\n",
    "    return True"
   ]
  },
  {
   "cell_type": "markdown",
   "metadata": {},
   "source": [
    "### 2. 루프에서 찾으려는 대상을 찾았는지 알려주는 결과 변수를 사용한다.\n",
    "\n",
    "뭔가를 찾았으면 즉시 break로 루프를 중단한다."
   ]
  },
  {
   "cell_type": "code",
   "execution_count": 7,
   "metadata": {},
   "outputs": [],
   "source": [
    "def coprime(a, b):\n",
    "    is_coprime = True\n",
    "    for i in range(2, min(a, b) + 1):\n",
    "        if a % i == 0 and b % i == 0:\n",
    "            is_coprime = False\n",
    "            break\n",
    "    return is_coprime"
   ]
  },
  {
   "cell_type": "markdown",
   "metadata": {},
   "source": [
    "## 루프처럼 간단한 구조는 Python에서 따로 설명할 필요가 없어야 한다.\n",
    "\n",
    "따라서 루프 다음에 else 블록은 지양해서 사용해야한다."
   ]
  }
 ],
 "metadata": {
  "kernelspec": {
   "display_name": "Python 3",
   "language": "python",
   "name": "python3"
  },
  "language_info": {
   "codemirror_mode": {
    "name": "ipython",
    "version": 3
   },
   "file_extension": ".py",
   "mimetype": "text/x-python",
   "name": "python",
   "nbconvert_exporter": "python",
   "pygments_lexer": "ipython3",
   "version": "3.8.5"
  }
 },
 "nbformat": 4,
 "nbformat_minor": 4
}
