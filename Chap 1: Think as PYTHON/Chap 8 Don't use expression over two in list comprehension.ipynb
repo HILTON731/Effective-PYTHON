{
 "cells": [
  {
   "cell_type": "markdown",
   "metadata": {},
   "source": [
    "# list comprehension에서 표현식을 두 개 넘게 쓰지 말자\n",
    "\n",
    "list comprehension은 기본 사용법 뿐 아니라 다중 루프도 지원한다.\n",
    "\n",
    "예를 들어 행렬을 모든 셀이 포함된 평평한 리스트 하나로 간략화 한다고 가정했을 때 다음은 for 표현식 두개를 사용한 list comprehension 이다.  \n",
    "표현식은 왼쪽에서 오른쪽으로 실행된다."
   ]
  },
  {
   "cell_type": "code",
   "execution_count": 2,
   "metadata": {},
   "outputs": [
    {
     "name": "stdout",
     "output_type": "stream",
     "text": [
      "[1, 2, 3, 4, 5, 6, 7, 8, 9]\n"
     ]
    }
   ],
   "source": [
    "matrix = [[1, 2, 3], [4, 5, 6], [7, 8, 9]]\n",
    "flat = [x for row in matrix for x in row]\n",
    "print(flat)"
   ]
  },
  {
   "cell_type": "markdown",
   "metadata": {},
   "source": [
    "### 입력 리스트의 레이아웃을 두 레벨로 중복해서 구성\n",
    "\n",
    "예를 들어 2차원 행렬의 각 셀에 있는 값의 제곱을 구한다."
   ]
  },
  {
   "cell_type": "code",
   "execution_count": 3,
   "metadata": {},
   "outputs": [
    {
     "name": "stdout",
     "output_type": "stream",
     "text": [
      "[[1, 4, 9], [16, 25, 36], [49, 64, 81]]\n"
     ]
    }
   ],
   "source": [
    "squared = [[x**2 for x in row] for row in matrix]\n",
    "print(squared)"
   ]
  },
  {
   "cell_type": "markdown",
   "metadata": {},
   "source": [
    "### 다른 루프에 넣는다면 List comprehension이 여러 줄로 구분해야 할 정도로 길어진다."
   ]
  },
  {
   "cell_type": "code",
   "execution_count": 4,
   "metadata": {},
   "outputs": [],
   "source": [
    "my_lists = [\n",
    "    [[1, 2, 3], [4, 5, 6]],\n",
    "    # ...\n",
    "]\n",
    "flat = [x for sublist1 in my_lists for sublist2 in sublist1 for x in sublist2]"
   ]
  },
  {
   "cell_type": "markdown",
   "metadata": {},
   "source": [
    "### 일반 루프문으로 만든 결과이다.\n",
    "\n",
    "들여쓰기를 사용해서 list comprehension보다 이해하기 쉽다."
   ]
  },
  {
   "cell_type": "code",
   "execution_count": 7,
   "metadata": {},
   "outputs": [],
   "source": [
    "flat = []\n",
    "\n",
    "for sublist1 in my_lists:\n",
    "    for sublist2 in sublist1:\n",
    "        flat.extend(sublist2)"
   ]
  },
  {
   "cell_type": "markdown",
   "metadata": {},
   "source": [
    "### list comprehension도 다중 if 조건을 지원한다.\n",
    "\n",
    "같은 루프 레벨에 여러 조건이 있으면 암시적인 and 표현식이 된다.\n",
    "\n",
    "예를 들어 숫자로 구성된 리스트에서 4보다 큰 짝수 값만 가지고 온다면 다음 두 list comprehension은 동일하다."
   ]
  },
  {
   "cell_type": "code",
   "execution_count": 8,
   "metadata": {},
   "outputs": [],
   "source": [
    "a = [1, 2, 3, 4, 5, 6, 7, 8, 9, 10]\n",
    "b = [x for x in a if x > 4 if x % 2 == 0]\n",
    "c = [x for x in a if x > 4 and x % 2 == 0]"
   ]
  },
  {
   "cell_type": "markdown",
   "metadata": {},
   "source": [
    "### 조건은 루프의 각 레벨에서 for 표현식 뒤에 설정할 수 있다.\n",
    "\n",
    "예를 들어 행렬에서 row의 합이 10 이상이고 3으로 나누어 떨어지는 셀을 구할 때,  \n",
    "다음처럼 list comprehension으로 표현시 이해가 어렵다."
   ]
  },
  {
   "cell_type": "code",
   "execution_count": 9,
   "metadata": {},
   "outputs": [
    {
     "name": "stdout",
     "output_type": "stream",
     "text": [
      "[[6], [9]]\n"
     ]
    }
   ],
   "source": [
    "matrix = [[1, 2, 3], [4, 5, 6], [7, 8, 9]]\n",
    "filtered = [[x for x in row if x % 3 == 0]\n",
    "           for row in matrix if sum(row) >= 10]\n",
    "print(filtered)"
   ]
  },
  {
   "cell_type": "markdown",
   "metadata": {},
   "source": [
    "### 이런 list comprehension은 피해야 한다.\n",
    "\n",
    "다른 사람이 이해하기 어려우며, 몇 줄을 절약한 장점이 나중에 겪을 어려움보다 크지 않다.  \n",
    "조건 두 개, 루프 두 개, 혹은 조건 한 개와 루프 한 개 정도면 된다.  \n",
    "이것보다 복잡해지면 일반적인 if 문과 for 문을 사용하고 핼퍼함수를 작성해야한다."
   ]
  }
 ],
 "metadata": {
  "kernelspec": {
   "display_name": "Python 3",
   "language": "python",
   "name": "python3"
  },
  "language_info": {
   "codemirror_mode": {
    "name": "ipython",
    "version": 3
   },
   "file_extension": ".py",
   "mimetype": "text/x-python",
   "name": "python",
   "nbconvert_exporter": "python",
   "pygments_lexer": "ipython3",
   "version": "3.8.5"
  }
 },
 "nbformat": 4,
 "nbformat_minor": 4
}
