{
 "cells": [
  {
   "cell_type": "markdown",
   "metadata": {},
   "source": [
    "# PEP 8 스타일 가이드를 따르자\n",
    "\n",
    "    파이썬 개선 제안서(Python Enhancement Proposal) #8(`PEP 8`): 파이썬 코드를 어떻게 구성할 지 알려주는 스타일 가이드\n",
    "\n",
    "## 일관성 있는 코드의 장점\n",
    "\n",
    "- 유지보수 간편화\n",
    "- 가독성이 증가\n",
    "- 공통된 스타일을 공유하여 다양한 프로젝트에서 협업이 가능\n",
    "\n",
    "## PEP 8 반드시 따라야 하는 규칙들\n",
    "\n",
    "[전체 가이드](https://www.python.org/dev/peps/pep-0008/) 링크 참조\n",
    "\n",
    "### 공백(White space)\n",
    "\n",
    "    파이썬에서 공백은 문법적으로 의미가 있다. 파이썬 프로그래머는 특히 코드의 명료성 때문에 화이트 스페이스의 영향에 민감한 편이다.\n",
    "\n",
    "- 탭이 아닌 스페이스로 들여쓰기\n",
    "- 문법적으로 의미 있는 들여쓰기는 각 수준마다 스페이스 4개 사용\n",
    "- 한 줄의 문자 길이기 79자 이하\n",
    "- 표현식이 길어 다음 줄로 이어지면 일반적인 들여쓰기 수준에 추가로 스페이스 4개\n",
    "- 파일에서 함수와 클래스는 빈 줄 하나로 구분\n",
    "- 클래스에서 메서드는 빈 줄 하나로 구분\n",
    "- 리스트 인덱스, 함수 호출, 키워드 인수 할당에는 스페이스를 사용하지 않음\n",
    "- 변수 할당 앞뒤에 스페이스 하나만 사용\n",
    "\n",
    "### 명명(Naming)\n",
    "\n",
    "    PEP 8은 언어의 부분별로 독자적인 명명 스타일을 제안한다. 이 스타일을 따르면 코드를 읽을 때 각 이름에 대응하는 타입 구별이 쉽다.\n",
    "\n",
    "- 함수, 변수, 속성은 `lowercase_underscore` 형식\n",
    "- 보호(protected) 인스턴스 속성은 `_leading_underscore` 형식\n",
    "- 비공개(private) 인스턴스 속성은 `__double_leading_underscore` 형식\n",
    "- 클래스와 예외는 `CapitalizedWord` 형식\n",
    "- 모듈 수준 상수는 `ALL_CAPS` 형식\n",
    "- 클래스와 인스턴스 메서드에서는 첫 번째 파라미터의 이름을 `self` 로 지정\n",
    "- 클래스 메서드에서는 첫 번째 파라미터의 이름을 `cls` 로 지정\n",
    "\n",
    "### 표현식과 문장\n",
    "\n",
    "    파이썬의 계명(The Zen of Python)에는 \"어떤 일을 하는 확실한 방법이 있어야 한다.\"는 표현이 있다. PEP 8은 표현식과 문장의 본보기로 이 스타일을 정리하고 잇다.\n",
    "\n",
    "- 긍정 표현식의 부정(if not a is b) 대신에 인라인 부정(if a is not b)을 사용\n",
    "- 길이를 확인하여 빈 값을 확인([] if len(somelist) == 0 else something)하지 않으며, if not somelist를 사용하고 빈 값은 암시적으로 False가 된다고 가정\n",
    "- 비어 있지 않은 값([1] 또는 'hi')에도 위와 같은 방식을 적용하며, 값이 비어있지 않으면 if somelist 문이 암시적으로 True\n",
    "- 항상 파일의 맨 위에 import 문을 배치\n",
    "- 모듈 import 시 항상 모듈의 절대명 사용, 현재 모듈의 경로를 기준으로 상대 경로로 된 이름 사용하지 않음  (예를 들어 bar package의 foo 모듈을 import 하려면 그냥 import foo 가 아닌 from bar import foo 라고 해야함)\n",
    "- 상대적인 import 를 해야한다면 명시적인 구문을 사용해 from . import foo 라고 표현\n",
    "- import 는 '표준 라이브러리 모듈, 서드파티 모듈, 자신이 만든 모듈' 섹션 순으로 구분하며, 각 하위 섹션에는 알파벳 순서로 import"
   ]
  }
 ],
 "metadata": {
  "kernelspec": {
   "display_name": "Python 3",
   "language": "python",
   "name": "python3"
  },
  "language_info": {
   "codemirror_mode": {
    "name": "ipython",
    "version": 3
   },
   "file_extension": ".py",
   "mimetype": "text/x-python",
   "name": "python",
   "nbconvert_exporter": "python",
   "pygments_lexer": "ipython3",
   "version": "3.8.5"
  }
 },
 "nbformat": 4,
 "nbformat_minor": 4
}
