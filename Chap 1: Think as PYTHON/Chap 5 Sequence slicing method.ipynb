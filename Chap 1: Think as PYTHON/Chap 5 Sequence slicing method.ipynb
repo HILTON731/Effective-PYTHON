{
 "cells": [
  {
   "cell_type": "markdown",
   "metadata": {},
   "source": [
    "# 시퀀스를 슬라이스하는 방법을 알자\n",
    "\n",
    "    Python은 sequence를 slice 해서 조각으로 만드는 문법을 제공한다. 이렇게 slice하면 최소한의 노력으로 sequence item subset에 접근할 수 있다.\n",
    "\n",
    "### 가장 간단한 slicing 대상_list, str, bytes\n",
    "\n",
    "    __getitem__과 __setitem__ 이라는 특별한 메서드를 구현하는 Python의 class에도 slicing을 적용할 수 있다.\n",
    "\n",
    "    Slicing 문법의 기본 형태는 somelist[start:end]이며  \n",
    "    여기서 start index는 포함되고 end index는 제외된다."
   ]
  },
  {
   "cell_type": "code",
   "execution_count": 20,
   "metadata": {},
   "outputs": [
    {
     "name": "stdout",
     "output_type": "stream",
     "text": [
      "First four: ['a', 'b', 'c', 'd']\n",
      "Last four: ['e', 'f', 'g', 'h']\n",
      "Middle two: ['d', 'e']\n"
     ]
    }
   ],
   "source": [
    "a = ['a', 'b', 'c', 'd', 'e', 'f', 'g', 'h']\n",
    "print('First four:', a[:4])\n",
    "print('Last four:', a[-4:])\n",
    "print('Middle two:', a[3:-3])"
   ]
  },
  {
   "cell_type": "markdown",
   "metadata": {},
   "source": [
    "### 리스트의 처음부터 slice 할 때는 index 0을 생략한다."
   ]
  },
  {
   "cell_type": "code",
   "execution_count": 17,
   "metadata": {},
   "outputs": [],
   "source": [
    "assert a[:5] == a[0:5]"
   ]
  },
  {
   "cell_type": "markdown",
   "metadata": {},
   "source": [
    "### 리스트의 끝까지 slice 할 때도 마지막 index는 넣지 않아도 되므로 생략한다."
   ]
  },
  {
   "cell_type": "code",
   "execution_count": 18,
   "metadata": {},
   "outputs": [],
   "source": [
    "assert a[5:] == a[5:len(a)]"
   ]
  },
  {
   "cell_type": "markdown",
   "metadata": {},
   "source": [
    "### 리스트의 끝을 기준으로 offset 계산 시 음수로 slice 하는게 편하다."
   ]
  },
  {
   "cell_type": "code",
   "execution_count": 21,
   "metadata": {},
   "outputs": [
    {
     "name": "stdout",
     "output_type": "stream",
     "text": [
      "['a', 'b', 'c', 'd', 'e', 'f', 'g', 'h']\n",
      "['a', 'b', 'c', 'd', 'e']\n",
      "['a', 'b', 'c', 'd', 'e', 'f', 'g']\n",
      "['e', 'f', 'g', 'h']\n",
      "['f', 'g', 'h']\n",
      "['c', 'd', 'e']\n",
      "['c', 'd', 'e', 'f', 'g']\n",
      "['f', 'g']\n"
     ]
    }
   ],
   "source": [
    "print(a[:])        # ['a', 'b', 'c', 'd', 'e', 'f', 'g', 'h']\n",
    "print(a[:5])       # ['a', 'b', 'c', 'd', 'e']\n",
    "print(a[:-1])      # ['a', 'b', 'c', 'd', 'e', 'f', 'g']\n",
    "print(a[4:])       #                     ['e', 'f', 'g', 'h']\n",
    "print(a[-3:])      #                          ['f', 'g', 'h']\n",
    "print(a[2:5])      #           ['c', 'd', 'e']\n",
    "print(a[2:-1])     #           ['c', 'd', 'e', 'f', 'g']\n",
    "print(a[-3:-1])    #                          ['f', 'g']"
   ]
  },
  {
   "cell_type": "markdown",
   "metadata": {},
   "source": [
    "### __Slicing은 start, end index 가 리스트의 경계를 벗어나도 적절하게 처리한다.__\n",
    "\n",
    "입력 시퀀스에 대응해 처리할 최대 길이를 코드로 쉽게 결정 가능"
   ]
  },
  {
   "cell_type": "code",
   "execution_count": 22,
   "metadata": {},
   "outputs": [
    {
     "name": "stdout",
     "output_type": "stream",
     "text": [
      "['a', 'b', 'c', 'd', 'e', 'f', 'g', 'h'] ['a', 'b', 'c', 'd', 'e', 'f', 'g', 'h']\n"
     ]
    }
   ],
   "source": [
    "first_twenty_items = a[:20]\n",
    "last_twenty_items = a[-20:]\n",
    "\n",
    "print(first_twenty_items, last_twenty_items)"
   ]
  },
  {
   "cell_type": "markdown",
   "metadata": {},
   "source": [
    "### 이와 대조로 같은 index를 직접 접근시 예외 발생"
   ]
  },
  {
   "cell_type": "code",
   "execution_count": 23,
   "metadata": {},
   "outputs": [
    {
     "ename": "IndexError",
     "evalue": "list index out of range",
     "output_type": "error",
     "traceback": [
      "\u001b[0;31m---------------------------------------------------------------------------\u001b[0m",
      "\u001b[0;31mIndexError\u001b[0m                                Traceback (most recent call last)",
      "\u001b[0;32m<ipython-input-23-2ba6acdce15e>\u001b[0m in \u001b[0;36m<module>\u001b[0;34m\u001b[0m\n\u001b[0;32m----> 1\u001b[0;31m \u001b[0ma\u001b[0m\u001b[0;34m[\u001b[0m\u001b[0;36m20\u001b[0m\u001b[0;34m]\u001b[0m\u001b[0;34m\u001b[0m\u001b[0;34m\u001b[0m\u001b[0m\n\u001b[0m",
      "\u001b[0;31mIndexError\u001b[0m: list index out of range"
     ]
    }
   ],
   "source": [
    "a[20]"
   ]
  },
  {
   "cell_type": "markdown",
   "metadata": {},
   "source": [
    "### Slicing의 결과는 완전히 새로운 리스트다.\n",
    "\n",
    "원본 리스트에 들어있는 객체에 대한 참조는 유지된다. __하지만 슬라이스한 결과를 수정해도 원본 리스트에 아무런 영향을 미치지 않는다.__"
   ]
  },
  {
   "cell_type": "code",
   "execution_count": 24,
   "metadata": {},
   "outputs": [
    {
     "name": "stdout",
     "output_type": "stream",
     "text": [
      "Before:    ['e', 'f', 'g', 'h']\n",
      "After:     ['e', 99, 'g', 'h']\n",
      "No change: ['a', 'b', 'c', 'd', 'e', 'f', 'g', 'h']\n"
     ]
    }
   ],
   "source": [
    "b = a[4:]\n",
    "print('Before:   ', b)\n",
    "b[1] = 99\n",
    "print('After:    ', b)\n",
    "print('No change:', a)"
   ]
  },
  {
   "cell_type": "markdown",
   "metadata": {},
   "source": [
    "### 할당에 사용하면 슬라이스는 원본 리스트에서 지정한 범위를 대체한다.\n",
    "__```py a, b = c[:2]``` 같은 tuple 할당과 달리 slice 할당의 길이는 달라도 된다.__ 리스트는 새로 들어온 값에 맞춰 늘어나거나 줄어든다."
   ]
  },
  {
   "cell_type": "code",
   "execution_count": 25,
   "metadata": {},
   "outputs": [
    {
     "name": "stdout",
     "output_type": "stream",
     "text": [
      "Before  ['a', 'b', 'c', 'd', 'e', 'f', 'g', 'h']\n",
      "After  ['a', 'b', 99, 22, 14, 'h']\n"
     ]
    }
   ],
   "source": [
    "print('Before ', a)\n",
    "a[2:7] = [99, 22, 14]\n",
    "print('After ', a)"
   ]
  },
  {
   "cell_type": "markdown",
   "metadata": {},
   "source": [
    "### 시작과 끝 인덱스를 모두 생략하고 slice 하면 원본 리스트의 복사본을 얻는다."
   ]
  },
  {
   "cell_type": "code",
   "execution_count": 26,
   "metadata": {},
   "outputs": [
    {
     "name": "stdout",
     "output_type": "stream",
     "text": [
      "Before ['a', 'b', 99, 22, 14, 'h']\n",
      "After  [101, 102, 103]\n"
     ]
    }
   ],
   "source": [
    "b = a\n",
    "print('Before', a)\n",
    "a[:] = [101, 102, 103]\n",
    "assert a is b\n",
    "print('After ', a)"
   ]
  },
  {
   "cell_type": "markdown",
   "metadata": {},
   "source": [
    "## 정리\n",
    "\n",
    "- 장황하지 않게 하자. index에 0을 설정하거나 sequence의 길이를 설정하지 말자\n",
    "- slicing은 범위를 벗어난 인덱스를 허용한다.\n",
    "- list slice에 할당하면 원본 시퀀스에 지정한 범위를 참조 대상의 내용으로 대체한다."
   ]
  }
 ],
 "metadata": {
  "kernelspec": {
   "display_name": "Python 3",
   "language": "python",
   "name": "python3"
  },
  "language_info": {
   "codemirror_mode": {
    "name": "ipython",
    "version": 3
   },
   "file_extension": ".py",
   "mimetype": "text/x-python",
   "name": "python",
   "nbconvert_exporter": "python",
   "pygments_lexer": "ipython3",
   "version": "3.8.5"
  }
 },
 "nbformat": 4,
 "nbformat_minor": 4
}
