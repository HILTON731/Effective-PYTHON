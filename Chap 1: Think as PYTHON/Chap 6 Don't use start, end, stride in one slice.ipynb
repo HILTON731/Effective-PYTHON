{
 "cells": [
  {
   "cell_type": "markdown",
   "metadata": {},
   "source": [
    "# 한 슬라이스에 start, end, stride를 함께 쓰지 말자\n",
    "\n",
    "Pyhthon에는 기본 slicing 뿐만 아니라 ```py somelist[start:end:stride]``` 처럼 슬라이스의 stride를 설정하기도 한다.  \n",
    "이 문법을 이용하면 시퀀스를 슬라이스할 때 n번째 아이템을 가져올 수 있다.\n",
    "\n",
    "예를 들어 stride를 쓰면 리스트의 홀수와 짝수 index를 쉽게 그룹으로 묶을 수 있다."
   ]
  },
  {
   "cell_type": "code",
   "execution_count": 1,
   "metadata": {},
   "outputs": [
    {
     "name": "stdout",
     "output_type": "stream",
     "text": [
      "['red', 'yellow', 'blue']\n",
      "['orange', 'green', 'purple']\n"
     ]
    }
   ],
   "source": [
    "a = ['red', 'orange', 'yellow', 'green', 'blue', 'purple']\n",
    "odds = a[::2]\n",
    "evens = a[1::2]\n",
    "print(odds)\n",
    "print(evens)"
   ]
  },
  {
   "cell_type": "markdown",
   "metadata": {},
   "source": [
    "### stride 문법이 종종 예상치 못한 동작을 통해 버그를 만들기도 한다.\n",
    "\n",
    "예를 들어 Python 에서 byte 문자열을 역순으로 만드는 일반적인 방법은 stride -1 로 문자열을 slice하는 것이다."
   ]
  },
  {
   "cell_type": "code",
   "execution_count": 2,
   "metadata": {},
   "outputs": [
    {
     "name": "stdout",
     "output_type": "stream",
     "text": [
      "b'esoognom'\n"
     ]
    }
   ],
   "source": [
    "x = b'mongoose'\n",
    "y = x[::-1]\n",
    "print(y)"
   ]
  },
  {
   "cell_type": "markdown",
   "metadata": {},
   "source": [
    "### 위 코드는 byte 문자열이나 ASCII 문자에는 잘 동작하지만, UTF-8 byte 문자열로 encode 된 unicode 문자에는 원하는 대로 동작하지 않는다."
   ]
  },
  {
   "cell_type": "code",
   "execution_count": 3,
   "metadata": {},
   "outputs": [
    {
     "ename": "UnicodeDecodeError",
     "evalue": "'utf-8' codec can't decode byte 0x8b in position 0: invalid start byte",
     "output_type": "error",
     "traceback": [
      "\u001b[0;31m---------------------------------------------------------------------------\u001b[0m",
      "\u001b[0;31mUnicodeDecodeError\u001b[0m                        Traceback (most recent call last)",
      "\u001b[0;32m<ipython-input-3-910a9ce276d6>\u001b[0m in \u001b[0;36m<module>\u001b[0;34m\u001b[0m\n\u001b[1;32m      2\u001b[0m \u001b[0mx\u001b[0m \u001b[0;34m=\u001b[0m \u001b[0mw\u001b[0m\u001b[0;34m.\u001b[0m\u001b[0mencode\u001b[0m\u001b[0;34m(\u001b[0m\u001b[0;34m'utf-8'\u001b[0m\u001b[0;34m)\u001b[0m\u001b[0;34m\u001b[0m\u001b[0;34m\u001b[0m\u001b[0m\n\u001b[1;32m      3\u001b[0m \u001b[0my\u001b[0m \u001b[0;34m=\u001b[0m \u001b[0mx\u001b[0m\u001b[0;34m[\u001b[0m\u001b[0;34m:\u001b[0m\u001b[0;34m:\u001b[0m\u001b[0;34m-\u001b[0m\u001b[0;36m1\u001b[0m\u001b[0;34m]\u001b[0m\u001b[0;34m\u001b[0m\u001b[0;34m\u001b[0m\u001b[0m\n\u001b[0;32m----> 4\u001b[0;31m \u001b[0mz\u001b[0m \u001b[0;34m=\u001b[0m \u001b[0my\u001b[0m\u001b[0;34m.\u001b[0m\u001b[0mdecode\u001b[0m\u001b[0;34m(\u001b[0m\u001b[0;34m'utf-8'\u001b[0m\u001b[0;34m)\u001b[0m\u001b[0;34m\u001b[0m\u001b[0;34m\u001b[0m\u001b[0m\n\u001b[0m",
      "\u001b[0;31mUnicodeDecodeError\u001b[0m: 'utf-8' codec can't decode byte 0x8b in position 0: invalid start byte"
     ]
    }
   ],
   "source": [
    "w = '示例仅是示例'\n",
    "x = w.encode('utf-8')\n",
    "y = x[::-1]\n",
    "z = y.decode('utf-8')"
   ]
  },
  {
   "cell_type": "markdown",
   "metadata": {},
   "source": [
    "### -1을 제외한 음수 값으로 stride를 지정한 경우"
   ]
  },
  {
   "cell_type": "code",
   "execution_count": 5,
   "metadata": {},
   "outputs": [
    {
     "name": "stdout",
     "output_type": "stream",
     "text": [
      "['a', 'c', 'e', 'g']\n",
      "['h', 'f', 'd', 'b']\n"
     ]
    }
   ],
   "source": [
    "a = ['a', 'b', 'c', 'd', 'e', 'f', 'g', 'h']\n",
    "print(a[::2])  # ['a', 'c', 'e', 'g']\n",
    "print(a[::-2]) # ['h', 'f', 'd', 'b']"
   ]
  },
  {
   "cell_type": "markdown",
   "metadata": {},
   "source": [
    "### `::2`\n",
    "\n",
    "처음부터 시작해서 매 두 번째 아이템을 선택하라는 의미다.\n",
    "\n",
    "### `::-2`\n",
    "\n",
    "끝부터 시작해서 반대 방향으로 매 두 번재 아이템을 선택하라는 뜻이다."
   ]
  },
  {
   "cell_type": "code",
   "execution_count": 6,
   "metadata": {},
   "outputs": [
    {
     "name": "stdout",
     "output_type": "stream",
     "text": [
      "['c', 'e', 'g']\n",
      "['g', 'e', 'c', 'a']\n",
      "['g', 'e']\n",
      "[]\n"
     ]
    }
   ],
   "source": [
    "print(a[2::2])    # ['c', 'e', 'g']\n",
    "print(a[-2::-2])  # ['g', 'e', 'c', 'a']\n",
    "print(a[-2:2:-2]) # ['g', 'e']\n",
    "print(a[2:2:-2])  # []"
   ]
  },
  {
   "cell_type": "markdown",
   "metadata": {},
   "source": [
    "### slicing 문법의 stride 부분이 매우 혼란스러울 수 있다.\n",
    "\n",
    "`[start:end:stride]` 가 서로 연계되어 어떤 작용을 하는지 분명하지 않다. 특히 stride가 음수인 경우 그러하다.\n",
    "\n",
    "이런 문제를 방지하려면 stride를 start, end index와 함께 사용하지 않아야 한다.\n",
    "__stride 사용시 양수값을 사용, start, end index 는 생략하는게 좋다.__  \n",
    "stride를 start, end index와 함께 사용할 경우 __결과를 변수에 할당하고, 이 변수를 slice한 결과를 다른 변수에 할당해서 사용하자.__"
   ]
  },
  {
   "cell_type": "code",
   "execution_count": 7,
   "metadata": {},
   "outputs": [],
   "source": [
    "b = a[::2]  # ['a', 'c', 'e', 'g']\n",
    "c = b[1:-1] # ['c', 'e']"
   ]
  },
  {
   "cell_type": "markdown",
   "metadata": {},
   "source": [
    "### slicing 부터 하고 striding을 하면 데이터의 얕은 복사본(shallow copy)이 추가로 생긴다.\n",
    "\n",
    "__첫 번째 연산은 결과로 나오는 slice의 크기를 최대한 줄여야 한다.__ 프로그램에서 두 과정에 필요한 시간과 메모리가 충분하지 않을 경우 내장 모듈 itertools의 islice method를 사용하라. islice method는 start, end, stride에 음수 값을 허용하지 않는다."
   ]
  }
 ],
 "metadata": {
  "kernelspec": {
   "display_name": "Python 3",
   "language": "python",
   "name": "python3"
  },
  "language_info": {
   "codemirror_mode": {
    "name": "ipython",
    "version": 3
   },
   "file_extension": ".py",
   "mimetype": "text/x-python",
   "name": "python",
   "nbconvert_exporter": "python",
   "pygments_lexer": "ipython3",
   "version": "3.8.5"
  }
 },
 "nbformat": 4,
 "nbformat_minor": 4
}
