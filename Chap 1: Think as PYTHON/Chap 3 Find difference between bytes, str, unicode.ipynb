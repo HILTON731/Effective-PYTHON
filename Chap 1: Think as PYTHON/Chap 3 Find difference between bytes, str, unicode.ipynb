{
 "cells": [
  {
   "cell_type": "markdown",
   "metadata": {},
   "source": [
    "# bytes, str, unicode의 차이점을 알자\n",
    "\n",
    "|Python3|Python2|\n",
    "|:-|:-|\n",
    "|- bytes와 str 두 가지 타입으로 문자 시퀀스 표현|- str과 unicode 두 가지 타입으로 문자 시퀀스 표현|\n",
    "|- bytes instance는 raw 8bit 값 저장|- str instance는 raw 8bit 값 저장|\n",
    "|- str instance는 unicode 문자 저장|- unicode instance는 unicode 문자 저장|\n",
    "\n",
    "## Binary data(raw 8bit) 표현 방법\n",
    "\n",
    "- unicode 문자를 binary data(raw 8bit)로 표현하는 방법은 많음 (대표적으로 UTF-8)\n",
    "- Python3 str instance와 Python2 unicode instance는 binary data로 변환하기 위해 encode method 사용\n",
    "- binary data를 unicode 문자로 변환하기 위해 decode method 사용\n",
    "- Python programming 시 외부에 제공할 interface에서 unicode를 encode, decode 해야 함\n",
    "- Program 핵심 부분에서 unicode type을 사용하고, 문자 encoding에 대해서ㅡㄴ 어떤 가정도 하지 말아야 함"
   ]
  }
 ],
 "metadata": {
  "kernelspec": {
   "display_name": "Python 3",
   "language": "python",
   "name": "python3"
  },
  "language_info": {
   "codemirror_mode": {
    "name": "ipython",
    "version": 3
   },
   "file_extension": ".py",
   "mimetype": "text/x-python",
   "name": "python",
   "nbconvert_exporter": "python",
   "pygments_lexer": "ipython3",
   "version": "3.8.5"
  }
 },
 "nbformat": 4,
 "nbformat_minor": 4
}
