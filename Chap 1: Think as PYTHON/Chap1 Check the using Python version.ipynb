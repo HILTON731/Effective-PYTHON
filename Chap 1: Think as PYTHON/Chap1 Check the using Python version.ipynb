{
 "cells": [
  {
   "cell_type": "markdown",
   "metadata": {},
   "source": [
    "# 사용 중인 파이썬 버전을 알자\n",
    "\n",
    "대중적인 CPython, Jyhton, IronPython, PyPy 등 다양한 런타임에 적용된다.  \n",
    "--version 플래그를 사용하여 버전 정보를 확인한다.\n",
    "\n",
    "터미널 실행 시\n",
    "```bash\n",
    "$ python --version\n",
    "# Python 2.x\n",
    "\n",
    "$ python3 --version\n",
    "# Python 3.x\n",
    "```\n",
    "\n",
    "내장된 sys 모듈 안의 값을 조사하여 런타임에 사용 중인 파이썬의 버전 탐색"
   ]
  },
  {
   "cell_type": "code",
   "execution_count": 10,
   "metadata": {},
   "outputs": [
    {
     "name": "stdout",
     "output_type": "stream",
     "text": [
      "sys.version_info(major=3, minor=8, micro=5, releaselevel='final', serial=0)\n",
      "3.8.5 (default, Sep  4 2020, 02:22:02) \n",
      "[Clang 10.0.0 ]\n"
     ]
    }
   ],
   "source": [
    "import sys\n",
    "print(sys.version_info)\n",
    "print(sys.version)"
   ]
  },
  {
   "cell_type": "markdown",
   "metadata": {},
   "source": [
    "파이썬 2의 개발은 현재 버그 수정, 보안 강화, 파이썬 2를 파이썬 3로 쉽게 포팅하는 기능 외 중지상태.<br>\n",
    "2to3, six 같은 도구를 사용하면 파이썬 3로 더 쉽게 옮길 수 있음."
   ]
  }
 ],
 "metadata": {
  "kernelspec": {
   "display_name": "Python 3",
   "language": "python",
   "name": "python3"
  },
  "language_info": {
   "codemirror_mode": {
    "name": "ipython",
    "version": 3
   },
   "file_extension": ".py",
   "mimetype": "text/x-python",
   "name": "python",
   "nbconvert_exporter": "python",
   "pygments_lexer": "ipython3",
   "version": "3.8.5"
  }
 },
 "nbformat": 4,
 "nbformat_minor": 4
}
