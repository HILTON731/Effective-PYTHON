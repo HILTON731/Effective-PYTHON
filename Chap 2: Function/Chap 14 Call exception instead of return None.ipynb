{
 "cells": [
  {
   "cell_type": "markdown",
   "metadata": {},
   "source": [
    "# None을 반환하기보다는 예외를 일으키자\n",
    "\n",
    "파이썬 프로그래머들은 유틸리티 함수를 작성할 때 반환 값 None에 특별한 의미를 부여하는 경향이 있다.\n",
    "\n",
    "예를 들어 어떤 숫자를 다른 숫자로 나누는 헬퍼 함수를 생각했을때, 0으로 나누는 경우에는 결과가 정의되어 있지 않기 때문에 None을 반환하는 게 자연스럽다."
   ]
  },
  {
   "cell_type": "code",
   "execution_count": 1,
   "metadata": {},
   "outputs": [],
   "source": [
    "def divide(a, b):\n",
    "    try:\n",
    "        return a / b\n",
    "    except ZeroDivisionError:\n",
    "        return None"
   ]
  },
  {
   "cell_type": "markdown",
   "metadata": {},
   "source": [
    "함수를 사용하는 코드는 반환 값을 다음과 같이 해석한다."
   ]
  },
  {
   "cell_type": "code",
   "execution_count": 3,
   "metadata": {},
   "outputs": [],
   "source": [
    "x, y = 0, 5\n",
    "\n",
    "result = divide(x, y)\n",
    "if result is None:\n",
    "    print('Invalid inputs')"
   ]
  },
  {
   "cell_type": "markdown",
   "metadata": {},
   "source": [
    "분자가 0이 될 경우 반환 값도 0이 된다. 그러면 if 문과 같은 조건에서 결과를 평가할 때 문제가 될 수 있다. __오류인지 알아내려고 None 대신 실수로 False에 해당하는 값을 검사할 수도 있다.__"
   ]
  },
  {
   "cell_type": "code",
   "execution_count": 4,
   "metadata": {},
   "outputs": [
    {
     "name": "stdout",
     "output_type": "stream",
     "text": [
      "Invalid inputs\n"
     ]
    }
   ],
   "source": [
    "result = divide(x, y)\n",
    "if not result:\n",
    "    print('Invalid inputs')"
   ]
  },
  {
   "cell_type": "markdown",
   "metadata": {},
   "source": [
    "None 이 특별한 의미가 있을 때 Python 코드에서 흔히 하는 실수다. 함수에서 None을 반환하면 오류가 일어나기 쉬운 이유다."
   ]
  },
  {
   "cell_type": "markdown",
   "metadata": {},
   "source": [
    "## 오류가 일어나는 상황을 줄이는 방법 2가지\n",
    "\n",
    "### 1. 반환 값을 두 개로 나눠서 tuple에 담는 것\n",
    "\n",
    "tuple의 첫 번째 부분은 작업의 성공 여부를 알려준다. 두 번째 부분은 계산된 실제 결과다."
   ]
  },
  {
   "cell_type": "code",
   "execution_count": 5,
   "metadata": {},
   "outputs": [],
   "source": [
    "def divide(a, b):\n",
    "    try:\n",
    "        return True, a / b\n",
    "    except ZeroDivisionError:\n",
    "        return False, None"
   ]
  },
  {
   "cell_type": "markdown",
   "metadata": {},
   "source": [
    "함수를 호출하는 쪽에서는 tuple을 풀어야 한다. 따라서 tuple에 들어있는 상태 부분까지 고려해야 한다."
   ]
  },
  {
   "cell_type": "code",
   "execution_count": 6,
   "metadata": {},
   "outputs": [],
   "source": [
    "success, result = divide(x, y)\n",
    "if not success:\n",
    "    print('Invalid inputs')"
   ]
  },
  {
   "cell_type": "markdown",
   "metadata": {},
   "source": [
    "호출자가 tuple의 첫 번째 부분을 쉽게 무시할 수 있다. 나쁘지 않아보이지만 결과는 그냥 None을 반환하는 것만큼 나쁘다."
   ]
  },
  {
   "cell_type": "code",
   "execution_count": 7,
   "metadata": {},
   "outputs": [
    {
     "name": "stdout",
     "output_type": "stream",
     "text": [
      "Invalid inputs\n"
     ]
    }
   ],
   "source": [
    "_, result = divide(x, y)\n",
    "if not result:\n",
    "    print('Invalid inputs')"
   ]
  },
  {
   "cell_type": "markdown",
   "metadata": {},
   "source": [
    "### 2. 절대로 None을 반환하지 않는다.\n",
    "\n",
    "호출하는 쪽에서 예외를 일으켜서 호출하는 쪽에서 그 예외를 처리하게 하는 것이다."
   ]
  },
  {
   "cell_type": "code",
   "execution_count": 8,
   "metadata": {},
   "outputs": [],
   "source": [
    "def divide(a, b):\n",
    "    try:\n",
    "        return a / b\n",
    "    except ZeroDivisionError as e:\n",
    "        raise ValueError('Invalid inputs') from e"
   ]
  },
  {
   "cell_type": "markdown",
   "metadata": {},
   "source": [
    "### 다음으로 호출하는 쪽에서 잘못된 입력에 대한 예외를 처리해야 한다.\n",
    "\n",
    "__호출하는 쪽에서 더는 함수의 반환 값을 조건식으로 검사할 필요가 없다.__ 함수가 예외를 일으키지 않았다면 반환 값은 문제가 없다. 예외를 처리하는 코드도 깔끔해진다."
   ]
  },
  {
   "cell_type": "code",
   "execution_count": 9,
   "metadata": {},
   "outputs": [
    {
     "name": "stdout",
     "output_type": "stream",
     "text": [
      "Result is 2.5\n"
     ]
    }
   ],
   "source": [
    "x, y = 5, 2\n",
    "try:\n",
    "    result = divide(x, y)\n",
    "except ValueError:\n",
    "    print('Invalid inputs')\n",
    "else:\n",
    "    print('Result is %.1f' % result)"
   ]
  }
 ],
 "metadata": {
  "kernelspec": {
   "display_name": "Python 3",
   "language": "python",
   "name": "python3"
  },
  "language_info": {
   "codemirror_mode": {
    "name": "ipython",
    "version": 3
   },
   "file_extension": ".py",
   "mimetype": "text/x-python",
   "name": "python",
   "nbconvert_exporter": "python",
   "pygments_lexer": "ipython3",
   "version": "3.8.5"
  }
 },
 "nbformat": 4,
 "nbformat_minor": 4
}
