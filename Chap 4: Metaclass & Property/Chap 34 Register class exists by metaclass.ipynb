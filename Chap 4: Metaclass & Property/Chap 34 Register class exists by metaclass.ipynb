{
 "cells": [
  {
   "cell_type": "markdown",
   "metadata": {},
   "source": [
    "# 메타클래스로 클래스의 존재를 등록하자\n",
    "\n",
    "메타클래스를 사용하는 또 다른 일반적인 사례는 프로그램에 있는 타입을 자동으로 등록하는 것이다. 등록(registration)은 간단한 식별자(identifier)를 대응하는 클래스에 매핑하는 역방향 조회(reverse lookup)를 수행할 때 유용하다.\n",
    "\n",
    "예를 들어 Python 객체를 직렬화한 표현을 JSON으로 구현한다고 해보자."
   ]
  },
  {
   "cell_type": "code",
   "execution_count": 4,
   "metadata": {},
   "outputs": [],
   "source": [
    "import json\n",
    "\n",
    "class Serializable(object):\n",
    "    def __init__(self, *args):\n",
    "        self.args = args\n",
    "        \n",
    "    def serialize(self):\n",
    "        return json.dumps({'args': self.args})\n",
    "    "
   ]
  },
  {
   "cell_type": "markdown",
   "metadata": {},
   "source": [
    "간단한 불변 자료 구조를 문자열로 쉽게 직렬화할 수 있다."
   ]
  },
  {
   "cell_type": "code",
   "execution_count": 5,
   "metadata": {},
   "outputs": [
    {
     "name": "stdout",
     "output_type": "stream",
     "text": [
      "Object:     Point2D(5, 3)\n",
      "Serialized: {\"args\": [5, 3]}\n"
     ]
    }
   ],
   "source": [
    "class Point2D(Serializable):\n",
    "    def __init__(self, x, y):\n",
    "        super().__init__(x, y)\n",
    "        self.x = x\n",
    "        self.y = y\n",
    "        \n",
    "    def __repr__(self):\n",
    "        return 'Point2D(%d, %d)' % (self.x, self.y)\n",
    "    \n",
    "point = Point2D(5, 3)\n",
    "print('Object:    ', point)\n",
    "print('Serialized:', point.serialize())"
   ]
  },
  {
   "cell_type": "markdown",
   "metadata": {},
   "source": [
    "역직렬화하는 또 다른 클래스"
   ]
  },
  {
   "cell_type": "code",
   "execution_count": 6,
   "metadata": {},
   "outputs": [],
   "source": [
    "class Deserializable(Serializable):\n",
    "    @classmethod\n",
    "    def deserialize(cls, json_data):\n",
    "        params = json.loads(json_data)\n",
    "        return cls(*params['args'])"
   ]
  },
  {
   "cell_type": "markdown",
   "metadata": {},
   "source": [
    "Deserializable을 이용하면 간단한 불변 객체들을 범용적인 방식으로 쉽게 직렬화하고 역직렬화 할 수 있다."
   ]
  },
  {
   "cell_type": "code",
   "execution_count": 8,
   "metadata": {},
   "outputs": [
    {
     "name": "stdout",
     "output_type": "stream",
     "text": [
      "Before:      Point2D(5, 3)\n",
      "Serialized:  {\"args\": [5, 3]}\n",
      "After:       Point2D(5, 3)\n"
     ]
    }
   ],
   "source": [
    "class BetterPoint2D(Deserializable):\n",
    "    # ...\n",
    "    def __init__(self, x, y):\n",
    "        super().__init__(x, y)\n",
    "        self.x = x\n",
    "        self.y = y\n",
    "        \n",
    "    def __repr__(self):\n",
    "        return 'Point2D(%d, %d)' % (self.x, self.y)\n",
    "    \n",
    "    @classmethod\n",
    "    def deserialize(cls, json_data):\n",
    "        params = json.loads(json_data)\n",
    "        return cls(*params['args'])\n",
    "    \n",
    "\n",
    "point = BetterPoint2D(5, 3)\n",
    "print('Before:     ', point)\n",
    "data = point.serialize()\n",
    "print('Serialized: ', data)\n",
    "after = BetterPoint2D.deserialize(data)\n",
    "print('After:      ', after)"
   ]
  },
  {
   "cell_type": "markdown",
   "metadata": {},
   "source": [
    "직렬화된 데이터에 대응하는 타입을 미리 알고 있을 경우에만 대응 가능하다는 문제가 있다. 이상적으로 JSON으로 직렬화되는 클래스를 많이 갖추고 그중 어떤 클래스든 대응하는 Python 객체로 역직렬화하는 공통 함수를 하나만 두려고 할 것이다.\n",
    "\n",
    "이렇게 만들려면 직렬화할 객체의 클래스 이름을 JSON 데이터에 포함시키면 된다."
   ]
  },
  {
   "cell_type": "code",
   "execution_count": 13,
   "metadata": {},
   "outputs": [],
   "source": [
    "class BetterSerializable(object):\n",
    "    def __init__(self, *args):\n",
    "        self.args = args\n",
    "        \n",
    "    def serialize(self):\n",
    "        return json.dumps({\n",
    "            'class': self.__class__.__name__,\n",
    "            'args': self.args,\n",
    "        })\n",
    "    \n",
    "    def __repr__(self):\n",
    "        return 'Point2D(%d, %d)' % (self.x, self.y)"
   ]
  },
  {
   "cell_type": "markdown",
   "metadata": {},
   "source": [
    "다음으로 클래스 이름을 해당 클ㄹ래스의 객체 생성자에 매핑하고 이 매핑을 관리한다. 범용 역직렬화 함수는 register_class에 넘긴 클래스가 어떤 것이든 제대로 동작한다."
   ]
  },
  {
   "cell_type": "code",
   "execution_count": 14,
   "metadata": {},
   "outputs": [],
   "source": [
    "registry = {}\n",
    "\n",
    "def register_class(target_class):\n",
    "    registry[target_class.__name__] = target_class\n",
    "    \n",
    "def deserialize(data):\n",
    "    params = json.loads(data)\n",
    "    name = params['class']\n",
    "    target_class = registry[name]\n",
    "    return target_class(*params['args'])"
   ]
  },
  {
   "cell_type": "markdown",
   "metadata": {},
   "source": [
    "deserialize가 항상 제대로 동작함을 보장하려면 추후에 역직렬화할 법한 모든 클래스에 register_class를 호출해야 한다."
   ]
  },
  {
   "cell_type": "code",
   "execution_count": 15,
   "metadata": {},
   "outputs": [],
   "source": [
    "class EvenBetterPoint2D(BetterSerializable):\n",
    "    def __init__(self, x, y):\n",
    "        super().__init__(x, y)\n",
    "        self.x = x\n",
    "        self.y = y\n",
    "        \n",
    "register_class(EvenBetterPoint2D)"
   ]
  },
  {
   "cell_type": "markdown",
   "metadata": {},
   "source": [
    "이제 어떤 클래스를 담고 있는지 몰라도 임의의 JSON 문자열을 역직렬화할 수 있다."
   ]
  },
  {
   "cell_type": "code",
   "execution_count": 16,
   "metadata": {},
   "outputs": [
    {
     "name": "stdout",
     "output_type": "stream",
     "text": [
      "Before:      Point2D(5, 3)\n",
      "Serialized:  {\"class\": \"EvenBetterPoint2D\", \"args\": [5, 3]}\n",
      "After:       Point2D(5, 3)\n"
     ]
    }
   ],
   "source": [
    "point = EvenBetterPoint2D(5, 3)\n",
    "print('Before:     ', point)\n",
    "data = point.serialize()\n",
    "print('Serialized: ', data)\n",
    "after = deserialize(data)\n",
    "print('After:      ', after)"
   ]
  },
  {
   "cell_type": "code",
   "execution_count": 17,
   "metadata": {},
   "outputs": [],
   "source": [
    "class Point3D(BetterSerializable):\n",
    "    def __init__(self, x, y, z):\n",
    "        super().__init__(x, y, z)\n",
    "        self.x = x\n",
    "        self.y = y\n",
    "        self.z = z"
   ]
  },
  {
   "cell_type": "code",
   "execution_count": 18,
   "metadata": {},
   "outputs": [
    {
     "ename": "KeyError",
     "evalue": "'Point3D'",
     "output_type": "error",
     "traceback": [
      "\u001b[0;31m---------------------------------------------------------------------------\u001b[0m",
      "\u001b[0;31mKeyError\u001b[0m                                  Traceback (most recent call last)",
      "\u001b[0;32m<ipython-input-18-4ba1294828e5>\u001b[0m in \u001b[0;36m<module>\u001b[0;34m\u001b[0m\n\u001b[1;32m      1\u001b[0m \u001b[0mpoint\u001b[0m \u001b[0;34m=\u001b[0m \u001b[0mPoint3D\u001b[0m\u001b[0;34m(\u001b[0m\u001b[0;36m5\u001b[0m\u001b[0;34m,\u001b[0m \u001b[0;36m9\u001b[0m\u001b[0;34m,\u001b[0m \u001b[0;34m-\u001b[0m\u001b[0;36m4\u001b[0m\u001b[0;34m)\u001b[0m\u001b[0;34m\u001b[0m\u001b[0;34m\u001b[0m\u001b[0m\n\u001b[1;32m      2\u001b[0m \u001b[0mdata\u001b[0m \u001b[0;34m=\u001b[0m \u001b[0mpoint\u001b[0m\u001b[0;34m.\u001b[0m\u001b[0mserialize\u001b[0m\u001b[0;34m(\u001b[0m\u001b[0;34m)\u001b[0m\u001b[0;34m\u001b[0m\u001b[0;34m\u001b[0m\u001b[0m\n\u001b[0;32m----> 3\u001b[0;31m \u001b[0mdeserialize\u001b[0m\u001b[0;34m(\u001b[0m\u001b[0mdata\u001b[0m\u001b[0;34m)\u001b[0m\u001b[0;34m\u001b[0m\u001b[0;34m\u001b[0m\u001b[0m\n\u001b[0m",
      "\u001b[0;32m<ipython-input-14-939ad55f6a28>\u001b[0m in \u001b[0;36mdeserialize\u001b[0;34m(data)\u001b[0m\n\u001b[1;32m      7\u001b[0m     \u001b[0mparams\u001b[0m \u001b[0;34m=\u001b[0m \u001b[0mjson\u001b[0m\u001b[0;34m.\u001b[0m\u001b[0mloads\u001b[0m\u001b[0;34m(\u001b[0m\u001b[0mdata\u001b[0m\u001b[0;34m)\u001b[0m\u001b[0;34m\u001b[0m\u001b[0;34m\u001b[0m\u001b[0m\n\u001b[1;32m      8\u001b[0m     \u001b[0mname\u001b[0m \u001b[0;34m=\u001b[0m \u001b[0mparams\u001b[0m\u001b[0;34m[\u001b[0m\u001b[0;34m'class'\u001b[0m\u001b[0;34m]\u001b[0m\u001b[0;34m\u001b[0m\u001b[0;34m\u001b[0m\u001b[0m\n\u001b[0;32m----> 9\u001b[0;31m     \u001b[0mtarget_class\u001b[0m \u001b[0;34m=\u001b[0m \u001b[0mregistry\u001b[0m\u001b[0;34m[\u001b[0m\u001b[0mname\u001b[0m\u001b[0;34m]\u001b[0m\u001b[0;34m\u001b[0m\u001b[0;34m\u001b[0m\u001b[0m\n\u001b[0m\u001b[1;32m     10\u001b[0m     \u001b[0;32mreturn\u001b[0m \u001b[0mtarget_class\u001b[0m\u001b[0;34m(\u001b[0m\u001b[0;34m*\u001b[0m\u001b[0mparams\u001b[0m\u001b[0;34m[\u001b[0m\u001b[0;34m'args'\u001b[0m\u001b[0;34m]\u001b[0m\u001b[0;34m)\u001b[0m\u001b[0;34m\u001b[0m\u001b[0;34m\u001b[0m\u001b[0m\n",
      "\u001b[0;31mKeyError\u001b[0m: 'Point3D'"
     ]
    }
   ],
   "source": [
    "point = Point3D(5, 9, -4)\n",
    "data = point.serialize()\n",
    "deserialize(data)"
   ]
  },
  {
   "cell_type": "markdown",
   "metadata": {},
   "source": [
    "BetterSerializable를 상속해서 서브클래스를 만들더라도 class 문의 본문 이후에 register_class를 호출하지 않으면 실제로 모든 기능을 사용하진 못한다.\n",
    "\n",
    "프로그래머가 의도한 대로 BetterSerializable을 사용하고 모든 경우에 `register_class`가 호출된다고 확신 하기 위해 메타클래스를 이용하면 서브클래스가 정의될 때 class 문을 가로채는 방법으로 만들 수 있다. 메타 클래스로 클래스 본문이 끝나자마자 새 타입을 등록하면 된다."
   ]
  },
  {
   "cell_type": "code",
   "execution_count": 19,
   "metadata": {},
   "outputs": [],
   "source": [
    "class Meta(type):\n",
    "    def __new__(meta, name, bases, class_dict):\n",
    "        cls = type.__new__(meta, name, bases, class_dict)\n",
    "        register_class(cls)\n",
    "        return cls\n",
    "    \n",
    "class RegisteredSerializable(BetterSerializable,\n",
    "                            metaclass=Meta):\n",
    "    pass"
   ]
  },
  {
   "cell_type": "markdown",
   "metadata": {},
   "source": [
    "RegisterSerializable의 서브클래스를 정의할 때 register_class가 호출되어 deserialize가 항상 기대한 대로 동작할 것이라고 확신할 수 있다."
   ]
  },
  {
   "cell_type": "code",
   "execution_count": 21,
   "metadata": {},
   "outputs": [
    {
     "name": "stdout",
     "output_type": "stream",
     "text": [
      "Before:      Point2D(10, -7)\n",
      "Serialized:  {\"class\": \"Vector3D\", \"args\": [10, -7, 3]}\n",
      "After:       Point2D(10, -7)\n"
     ]
    }
   ],
   "source": [
    "class Vector3D(RegisteredSerializable):\n",
    "    def __init__(self, x, y, z):\n",
    "        super().__init__(x, y, z)\n",
    "        self.x, self.y, self.z = x, y, z\n",
    "        \n",
    "v3 = Vector3D(10, -7, 3)\n",
    "print('Before:     ', v3)\n",
    "data = v3.serialize()\n",
    "print('Serialized: ', data)\n",
    "after = deserialize(data)\n",
    "print('After:      ', deserialize(data))"
   ]
  },
  {
   "cell_type": "markdown",
   "metadata": {},
   "source": [
    "메타클래스를 이용해 클래스를 등록하면 상속 트리가 올바르게 구축되어있는 한 클래스 등록을 놓치지 않는다. 앞에서 본 것처럼 직렬화에 잘 동작하며 데이터베이스 객체 관계 매핑(`ORM`, `Object-Relationship Mapping`), 플러그인 시스템, 시스템 후크에도 적용할 수 있다."
   ]
  }
 ],
 "metadata": {
  "kernelspec": {
   "display_name": "Python 3",
   "language": "python",
   "name": "python3"
  },
  "language_info": {
   "codemirror_mode": {
    "name": "ipython",
    "version": 3
   },
   "file_extension": ".py",
   "mimetype": "text/x-python",
   "name": "python",
   "nbconvert_exporter": "python",
   "pygments_lexer": "ipython3",
   "version": "3.8.5"
  }
 },
 "nbformat": 4,
 "nbformat_minor": 4
}
