{
 "cells": [
  {
   "cell_type": "markdown",
   "metadata": {},
   "source": [
    "# 스레드 간의 작업을 조율하려면 Queue를 사용하자\n",
    "\n",
    "많은 작업을 동시에 실행하는 파이썬 프로그램은 작업 조율이 필요하다. 가장 유용한 병행 작업 방식 중 하나는 함수의 파이프라인이다.\n",
    "\n",
    "파이프라인은 일렬로 이어진 단계들로 구성되며, 각 단계에는 특정 함수가 연결되어 있다. 새 작업 요소는 끊임없이 파이프라인의 앞쪽에 추가된다. 각 함수는 동시에 자신이 속한 단계에 배정된 작업 요소를 처리할 수 있다. 남아 있는 단계가 더는 없을 때까지, 각 함수에서 처리를 완료할 때마다 작업은 다음 단게로 이동한다.\n",
    "\n",
    "이 방법은 파이썬으로 쉽게 병렬화할 수 있는 블로킹 I/O나 서브프로세스를 이용하는 작업에 특히 잘 맞는다.\n",
    "\n",
    "## 예시: 디지털 카메라  \n",
    "\n",
    "1. 새 이미지 추출\n",
    "2. 리사이즈 함수로 다운 이미지 처리\n",
    "3. 업로드로 리사이즈된 이미지 소비\n",
    "\n",
    "## 작업을 동시에 처리하기 위해 조립하는 방법\n",
    "\n",
    "### 1. 파이프라인 단계 사이에서 작업을 전달할 방버\n",
    "\n",
    "스레드 안전 생산자-소비자 큐로 모델링 가능"
   ]
  },
  {
   "cell_type": "code",
   "execution_count": 13,
   "metadata": {},
   "outputs": [],
   "source": [
    "from queue import deque\n",
    "from threading import Lock\n",
    "\n",
    "class MyQueue(object):\n",
    "    def __init__(self):\n",
    "        self.items = deque()\n",
    "        self.lock = Lock()\n",
    "        \n",
    "    # 생산자인 디지털 카메라는 새 이미지를 대기 아이템 리스트의 끝에 추가\n",
    "    def put(self, item):\n",
    "        with self.lock:\n",
    "            self.items.append(item)\n",
    "            \n",
    "    # 소비자인 처리 파이프라인의 첫 번째 단계에서는 대기 아이템 리스트의 앞쪽에서 이미지를 꺼내온다.\n",
    "    def get(self):\n",
    "        with self.lock:\n",
    "            return self.items.popleft()"
   ]
  },
  {
   "cell_type": "markdown",
   "metadata": {},
   "source": [
    "이런 큐에서 작업을 꺼내와서 함수를 실행한 후 결과를 또 다른 큐에 넣는 파이썬 스레드로 파이프라인의 각 단계 표현, 스레드가 새 입력을 몇 번이나 체크하고, 작업을 얼마나 완료하는지 추적한다.\n",
    "\n",
    "입력 큐가 비어있는 경우를 작업 스레드에서 적절히 처리하는 과정이 까다롭다. 다음 코드에서 IndexError 예외를 잡는 부분이 이에 해당한다. 이 경우를 조립 라인이 정체된 상황으로 보면 된다."
   ]
  },
  {
   "cell_type": "code",
   "execution_count": 14,
   "metadata": {},
   "outputs": [],
   "source": [
    "from threading import Thread\n",
    "\n",
    "class Worker(Thread):\n",
    "    def __init__(self, func, in_queue, out_queue):\n",
    "        super().__init__()\n",
    "        self.func = func\n",
    "        self.in_queue = in_queue\n",
    "        self.out_queue = out_queue\n",
    "        self.polled_count = 0\n",
    "        self.work_done = 0\n",
    "        \n",
    "    def run(self):\n",
    "        while True:\n",
    "            self.polled_count += 1\n",
    "            try:\n",
    "                item = self.in_queue.get()\n",
    "            except IndexError:\n",
    "                sleep(0.01) # 처리할 아이템이 없음\n",
    "            else:\n",
    "                result = self.func(item)\n",
    "                self.out_queue.put(result)\n",
    "                self.work_done += 1"
   ]
  },
  {
   "cell_type": "code",
   "execution_count": 16,
   "metadata": {},
   "outputs": [],
   "source": [
    "download_queue = MyQueue()\n",
    "resize_queue = MyQueue()\n",
    "upload_queue = MyQueue()\n",
    "done_queue = MyQueue()\n",
    "\n",
    "def download():\n",
    "    pass\n",
    "def resize():\n",
    "    pass\n",
    "def upload():\n",
    "    pass\n",
    "threads = [\n",
    "    Worker(download, download_queue, resize_queue),\n",
    "    Worker(resize, resize_queue, upload_queue),\n",
    "    Worker(upload, upload_queue, done_queue),\n",
    "]"
   ]
  },
  {
   "cell_type": "code",
   "execution_count": 19,
   "metadata": {
    "collapsed": true
   },
   "outputs": [
    {
     "ename": "RuntimeError",
     "evalue": "threads can only be started once",
     "output_type": "error",
     "traceback": [
      "\u001b[0;31m---------------------------------------------------------------------------\u001b[0m",
      "\u001b[0;31mRuntimeError\u001b[0m                              Traceback (most recent call last)",
      "\u001b[0;32m<ipython-input-19-5c1b38e90dd5>\u001b[0m in \u001b[0;36m<module>\u001b[0;34m\u001b[0m\n\u001b[1;32m      1\u001b[0m \u001b[0;32mfor\u001b[0m \u001b[0mthread\u001b[0m \u001b[0;32min\u001b[0m \u001b[0mthreads\u001b[0m\u001b[0;34m:\u001b[0m\u001b[0;34m\u001b[0m\u001b[0;34m\u001b[0m\u001b[0m\n\u001b[0;32m----> 2\u001b[0;31m     \u001b[0mthread\u001b[0m\u001b[0;34m.\u001b[0m\u001b[0mstart\u001b[0m\u001b[0;34m(\u001b[0m\u001b[0;34m)\u001b[0m\u001b[0;34m\u001b[0m\u001b[0;34m\u001b[0m\u001b[0m\n\u001b[0m\u001b[1;32m      3\u001b[0m \u001b[0;32mfor\u001b[0m \u001b[0m_\u001b[0m \u001b[0;32min\u001b[0m \u001b[0mrange\u001b[0m\u001b[0;34m(\u001b[0m\u001b[0;36m1000\u001b[0m\u001b[0;34m)\u001b[0m\u001b[0;34m:\u001b[0m\u001b[0;34m\u001b[0m\u001b[0;34m\u001b[0m\u001b[0m\n\u001b[1;32m      4\u001b[0m     \u001b[0mdownload_queue\u001b[0m\u001b[0;34m.\u001b[0m\u001b[0mput\u001b[0m\u001b[0;34m(\u001b[0m\u001b[0mobject\u001b[0m\u001b[0;34m(\u001b[0m\u001b[0;34m)\u001b[0m\u001b[0;34m)\u001b[0m\u001b[0;34m\u001b[0m\u001b[0;34m\u001b[0m\u001b[0m\n",
      "\u001b[0;32m~/opt/anaconda3/lib/python3.8/threading.py\u001b[0m in \u001b[0;36mstart\u001b[0;34m(self)\u001b[0m\n\u001b[1;32m    846\u001b[0m \u001b[0;34m\u001b[0m\u001b[0m\n\u001b[1;32m    847\u001b[0m         \u001b[0;32mif\u001b[0m \u001b[0mself\u001b[0m\u001b[0;34m.\u001b[0m\u001b[0m_started\u001b[0m\u001b[0;34m.\u001b[0m\u001b[0mis_set\u001b[0m\u001b[0;34m(\u001b[0m\u001b[0;34m)\u001b[0m\u001b[0;34m:\u001b[0m\u001b[0;34m\u001b[0m\u001b[0;34m\u001b[0m\u001b[0m\n\u001b[0;32m--> 848\u001b[0;31m             \u001b[0;32mraise\u001b[0m \u001b[0mRuntimeError\u001b[0m\u001b[0;34m(\u001b[0m\u001b[0;34m\"threads can only be started once\"\u001b[0m\u001b[0;34m)\u001b[0m\u001b[0;34m\u001b[0m\u001b[0;34m\u001b[0m\u001b[0m\n\u001b[0m\u001b[1;32m    849\u001b[0m         \u001b[0;32mwith\u001b[0m \u001b[0m_active_limbo_lock\u001b[0m\u001b[0;34m:\u001b[0m\u001b[0;34m\u001b[0m\u001b[0;34m\u001b[0m\u001b[0m\n\u001b[1;32m    850\u001b[0m             \u001b[0m_limbo\u001b[0m\u001b[0;34m[\u001b[0m\u001b[0mself\u001b[0m\u001b[0;34m]\u001b[0m \u001b[0;34m=\u001b[0m \u001b[0mself\u001b[0m\u001b[0;34m\u001b[0m\u001b[0;34m\u001b[0m\u001b[0m\n",
      "\u001b[0;31mRuntimeError\u001b[0m: threads can only be started once"
     ]
    }
   ],
   "source": [
    "for thread in threads:\n",
    "    thread.start()\n",
    "for _ in range(1000):\n",
    "    download_queue.put(object())"
   ]
  },
  {
   "cell_type": "code",
   "execution_count": 21,
   "metadata": {
    "collapsed": true
   },
   "outputs": [
    {
     "ename": "SyntaxError",
     "evalue": "unexpected EOF while parsing (<ipython-input-21-04d9b03e301f>, line 3)",
     "output_type": "error",
     "traceback": [
      "\u001b[0;36m  File \u001b[0;32m\"<ipython-input-21-04d9b03e301f>\"\u001b[0;36m, line \u001b[0;32m3\u001b[0m\n\u001b[0;31m    # ...\u001b[0m\n\u001b[0m         ^\u001b[0m\n\u001b[0;31mSyntaxError\u001b[0m\u001b[0;31m:\u001b[0m unexpected EOF while parsing\n"
     ]
    }
   ],
   "source": [
    "while len(done_queue.items) < 1000:\n",
    "    # 기다리는 동안 유용한 작업을 수행함\n",
    "    # ..."
   ]
  },
  {
   "cell_type": "markdown",
   "metadata": {},
   "source": [
    "run 메서드에서 IndexError 예외를 잡는 까다로운 부분이 많이 실행된다."
   ]
  },
  {
   "cell_type": "code",
   "execution_count": 22,
   "metadata": {},
   "outputs": [
    {
     "name": "stdout",
     "output_type": "stream",
     "text": [
      "Processed 0 items after polling 3 times\n"
     ]
    }
   ],
   "source": [
    "processed = len(done_queue.items)\n",
    "polled = sum(t.polled_count for t in threads)\n",
    "print('Processed', processed, 'items after polling', polled, 'times')"
   ]
  },
  {
   "cell_type": "markdown",
   "metadata": {},
   "source": [
    "작업 수행 함수의 실행 속도가 다르면 초기 단계가 후속 단계의 진행을 막아 파이프라인이 정체될 수 있다. 그러면 후속 단계에서 처리할 것이 없어서 지속적으로 새 작업을 가져오려고 짧은 주기로 입력 큐를 확인하게 된다.\n",
    "\n",
    "### 피해야 할 문제\n",
    "\n",
    "1. 입력 작업을 모두 완료했는지 판단하기 위해 done_queue에 결과가 모두 쌓일 때까지 기다려야 한다.\n",
    "2. Worker의 run 메서드는 루프에서 끊임없이 실행된다. 루프를 빠져나오도록 작업 스레드에 신호를 줄 방법이 없다.\n",
    "3. 최악의 문제로 파이프라인이 정체 시 프로그램이 고장난다."
   ]
  },
  {
   "cell_type": "markdown",
   "metadata": {},
   "source": [
    "## Queue로 문제 해결하기\n",
    "\n",
    "내장 모듈 queue에 들어있는 Queue 클래스는 이런 문제를 해결하는 데 필요한 기능을 모두 제공한다.\n",
    "\n",
    "Queue는 새 데이터가 생길 때 까지 get 메서드가 블록되게 하여 작업 스레드가 계속해서 데이터가 있는지 체크하는 상황을 없애준다."
   ]
  },
  {
   "cell_type": "code",
   "execution_count": 24,
   "metadata": {},
   "outputs": [
    {
     "name": "stdout",
     "output_type": "stream",
     "text": [
      "Consumer waiting\n",
      "Producer puttting\n",
      "Consumer done\n",
      "Producer done\n"
     ]
    }
   ],
   "source": [
    "from queue import Queue\n",
    "queue = Queue()\n",
    "\n",
    "def consumer():\n",
    "    print('Consumer waiting')\n",
    "    queue.get()\n",
    "    print('Consumer done')\n",
    "    \n",
    "thread = Thread(target=consumer)\n",
    "thread.start()\n",
    "\n",
    "## 스레드가 처음으로 실행할 때도 Queue 인스턴스에 아이템이 들어가서 get 메서드에서 반환할 아이템이 생기기 전에는 마치지 못한다.\n",
    "\n",
    "print('Producer puttting')\n",
    "queue.put(object())\n",
    "thread.join()\n",
    "print('Producer done')"
   ]
  },
  {
   "cell_type": "markdown",
   "metadata": {},
   "source": [
    "파이프라인 정체 문제를 해결하기 위해 두 단계 사이에서 대기할 작업의 최대 개수를 Queue에 설정해야 한다. 큐가 이미 이 버퍼 크기만큼 가득 차 있으면 put 호출이 블록된다."
   ]
  },
  {
   "cell_type": "code",
   "execution_count": 33,
   "metadata": {},
   "outputs": [
    {
     "name": "stdout",
     "output_type": "stream",
     "text": [
      "Producer put 1\n",
      "Consumer got 1\n",
      "Producer put 2\n",
      "Consumer got 2\n",
      "Producer done\n"
     ]
    }
   ],
   "source": [
    "import time\n",
    "\n",
    "queue = Queue(1)\n",
    "\n",
    "def consumer():\n",
    "    time.sleep(0.1)\n",
    "    queue.get()\n",
    "    print('Consumer got 1')\n",
    "    queue.get()\n",
    "    print('Consumer got 2')\n",
    "    \n",
    "thread = Thread(target=consumer)\n",
    "thread.start()\n",
    "\n",
    "queue.put(object())\n",
    "print('Producer put 1')\n",
    "queue.put(object())\n",
    "print('Producer put 2')\n",
    "thread.join()\n",
    "print('Producer done')"
   ]
  },
  {
   "cell_type": "markdown",
   "metadata": {},
   "source": [
    "대기 결과로 consumer 스레드에서 get을 호출하기 전에 생산 스레드에서 put으로 객체 두 개를 큐에 집어넣는 동작이 일어나야 한다. 하지만 Queue의 크기가 1이다. \n",
    "\n",
    "    두번째 put 호출이 블록된 상태에서 빠져나와서 두 번재 아이템을 큐에 넣을 수 있으려면, 큐에 아이템을 추가하는 생산자는 소비 스레드에서 적어도 한 번은 get을 호출하길 기다려야 한다."
   ]
  },
  {
   "cell_type": "code",
   "execution_count": 34,
   "metadata": {},
   "outputs": [
    {
     "name": "stdout",
     "output_type": "stream",
     "text": [
      "Consumer waiting\n"
     ]
    }
   ],
   "source": [
    "in_queue = Queue()\n",
    "\n",
    "def consumer():\n",
    "    print('Consumer waiting')\n",
    "    work = in_queue.get()\n",
    "    print('Consumer working')\n",
    "    # 작업을 수행함\n",
    "    # ...\n",
    "    print('Consumer done')\n",
    "    in_queue.task_done()\n",
    "    \n",
    "Thread(target=consumer).start()"
   ]
  },
  {
   "cell_type": "code",
   "execution_count": 35,
   "metadata": {},
   "outputs": [
    {
     "name": "stdout",
     "output_type": "stream",
     "text": [
      "Producer waiting\n",
      "Consumer working\n",
      "Consumer done\n",
      "Producer done\n"
     ]
    }
   ],
   "source": [
    "in_queue.put(object())\n",
    "print('Producer waiting')\n",
    "in_queue.join()\n",
    "print('Producer done')"
   ]
  },
  {
   "cell_type": "markdown",
   "metadata": {},
   "source": [
    "이런 모든 동작을 Queue 서브 클래스에 넣고, 처리를 중단해야 할 때 작업 스레드에 알리는 기능도 추가하자. 다음은 close 메서드를 정의하여 더는 입력 아이템이 없음을 알리는 특별한 아이템을 큐에 추가하는 코드다."
   ]
  },
  {
   "cell_type": "code",
   "execution_count": 37,
   "metadata": {},
   "outputs": [],
   "source": [
    "class ClosableQueue(Queue):\n",
    "    SENTINEL = object()\n",
    "    \n",
    "    def close(self):\n",
    "        self.put(self.SENTINEL)\n",
    "        \n",
    "    def __iter__(self):\n",
    "        while True:\n",
    "            item = self.get()\n",
    "            try:\n",
    "                if item is self.SENTINEL:\n",
    "                    return # 스레드 종료\n",
    "                yield item\n",
    "            finally:\n",
    "                self.task_done()"
   ]
  }
 ],
 "metadata": {
  "kernelspec": {
   "display_name": "Python 3",
   "language": "python",
   "name": "python3"
  },
  "language_info": {
   "codemirror_mode": {
    "name": "ipython",
    "version": 3
   },
   "file_extension": ".py",
   "mimetype": "text/x-python",
   "name": "python",
   "nbconvert_exporter": "python",
   "pygments_lexer": "ipython3",
   "version": "3.8.5"
  }
 },
 "nbformat": 4,
 "nbformat_minor": 4
}
