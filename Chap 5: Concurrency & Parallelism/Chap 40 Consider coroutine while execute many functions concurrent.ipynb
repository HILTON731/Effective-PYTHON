{
 "cells": [
  {
   "cell_type": "markdown",
   "metadata": {},
   "source": [
    "# 많은 함수를 동시에 실행하려면 코루틴을 고려하자\n",
    "\n",
    "스레드를 사용하여 여러 기능을 동시에 실행하는 것 처럼 보여줄 수 있다. 하지만 스레드를 사용하는 데는 세 가지 문제점 존재\n",
    "\n",
    "1. 스레드를 사용하는 코드가 절차적인 싱글 스레드 코드보다 이해가 어려워 확장성이나 유지보수가 어렵다.\n",
    "2. 스레드에 메모리가 많이 필요하다.\n",
    "3. 스레드를 시작하는 데는 비용이 많이 든다. \n",
    "\n",
    "파이썬에서는 `coroutine`으로 이런 문제를 모두 해결한다. 코루틴은 제네레이터를 확장하는 방법으로 구현한다. 제네레이터 코루틴을 시작하는 데 드는 비용은 함수 호출이다. 따라서 한 번 활성화되면 소진 시까지 1KB 미만의 메모리만 소비한다.\n",
    "\n",
    "코루틴은 제네레이터를 소비하느 코드에서 send 함수를 사용하여 역으로 제너레이터 함수의 각 yield 표현식에 값을 보낼 수 있게 하는 방법으로 동작한다."
   ]
  },
  {
   "cell_type": "code",
   "execution_count": 16,
   "metadata": {},
   "outputs": [
    {
     "name": "stdout",
     "output_type": "stream",
     "text": [
      "Received: First\n",
      "Received: Second\n"
     ]
    }
   ],
   "source": [
    "def my_coroutine():\n",
    "    while True:\n",
    "        received = yield\n",
    "        print('Received:', received)\n",
    "        \n",
    "it = my_coroutine()\n",
    "next(it)\n",
    "it.send('First')\n",
    "it.send('Second')"
   ]
  },
  {
   "cell_type": "markdown",
   "metadata": {},
   "source": [
    "yield와 send의 조합은 제너레이터가 외부 입력에 반응하여 다음에 다른 값을 얻게 하는 표준 방법"
   ]
  },
  {
   "cell_type": "code",
   "execution_count": 17,
   "metadata": {},
   "outputs": [],
   "source": [
    "def minimize():\n",
    "    current = yield\n",
    "    while True:\n",
    "        value = yield current\n",
    "        current = min(value, current)"
   ]
  },
  {
   "cell_type": "code",
   "execution_count": 18,
   "metadata": {},
   "outputs": [
    {
     "name": "stdout",
     "output_type": "stream",
     "text": [
      "10\n",
      "4\n",
      "4\n",
      "-1\n"
     ]
    }
   ],
   "source": [
    "it = minimize()\n",
    "next(it)\n",
    "print(it.send(10))\n",
    "print(it.send(4))\n",
    "print(it.send(22))\n",
    "print(it.send(-1))"
   ]
  },
  {
   "cell_type": "markdown",
   "metadata": {},
   "source": [
    "코루틴은 스레드와 마찬가지로 주변 환경에서 받은 입력을 소비하여 결과를 만들어낼 수 있는 독립적인 함수다. 둘의 차이는 코루틴이 제너레이터 함수의 각 yield 표현식에서 멈췄다가 외부에서 send를 호출할 때마다 다시 시작한다는 점이다.\n",
    "\n",
    "덕분에 제너레이터를 소비하는 코드에서 코루틴의 각 yield 표현식 이후에 원하는 처리를 할 수 있다. 제너레이터를 소비하는 코드는 제너레이터의 출력값으로 다른 함수를 호출하고 자료 구조를 수정할 수 있다."
   ]
  },
  {
   "cell_type": "code",
   "execution_count": 19,
   "metadata": {},
   "outputs": [],
   "source": [
    "from docutils import namedtuple\n",
    "\n",
    "Query = namedtuple('Query', ('y', 'x'))"
   ]
  },
  {
   "cell_type": "code",
   "execution_count": 24,
   "metadata": {},
   "outputs": [],
   "source": [
    "def count_neighbors(y, x):\n",
    "    n_ = yield Query(y + 1, x + 0)\n",
    "    ne = yield Query(y + 1, x + 1)\n",
    "    e_ = yield Query(y + 0, x + 1)\n",
    "    se = yield Query(y - 1, x + 1)    \n",
    "    s_ = yield Query(y - 1, x + 0)\n",
    "    sw = yield Query(y - 1, x - 1)\n",
    "    w_ = yield Query(y + 0, x - 1)    \n",
    "    nw = yield Query(y + 1, x - 1)\n",
    "    \n",
    "    neighbor_states = [n_, ne, e_, se, s_, sw, w_, nw]\n",
    "    count = 0\n",
    "    for state in neighbor_states:\n",
    "        if state == ALIVE:\n",
    "            count += 1\n",
    "    return count"
   ]
  },
  {
   "cell_type": "code",
   "execution_count": 25,
   "metadata": {},
   "outputs": [
    {
     "name": "stdout",
     "output_type": "stream",
     "text": [
      "Frist yield:   Query(y=11, x=5)\n"
     ]
    },
    {
     "ename": "NameError",
     "evalue": "name 'ALIVE' is not defined",
     "output_type": "error",
     "traceback": [
      "\u001b[0;31m---------------------------------------------------------------------------\u001b[0m",
      "\u001b[0;31mNameError\u001b[0m                                 Traceback (most recent call last)",
      "\u001b[0;32m<ipython-input-25-4ff5f9ea0ca7>\u001b[0m in \u001b[0;36m<module>\u001b[0;34m\u001b[0m\n\u001b[1;32m      2\u001b[0m \u001b[0mq1\u001b[0m \u001b[0;34m=\u001b[0m \u001b[0mnext\u001b[0m\u001b[0;34m(\u001b[0m\u001b[0mit\u001b[0m\u001b[0;34m)\u001b[0m\u001b[0;34m\u001b[0m\u001b[0;34m\u001b[0m\u001b[0m\n\u001b[1;32m      3\u001b[0m \u001b[0mprint\u001b[0m\u001b[0;34m(\u001b[0m\u001b[0;34m'Frist yield:  '\u001b[0m\u001b[0;34m,\u001b[0m \u001b[0mq1\u001b[0m\u001b[0;34m)\u001b[0m\u001b[0;34m\u001b[0m\u001b[0;34m\u001b[0m\u001b[0m\n\u001b[0;32m----> 4\u001b[0;31m \u001b[0mq2\u001b[0m \u001b[0;34m=\u001b[0m \u001b[0mit\u001b[0m\u001b[0;34m.\u001b[0m\u001b[0msend\u001b[0m\u001b[0;34m(\u001b[0m\u001b[0mALIVE\u001b[0m\u001b[0;34m)\u001b[0m\u001b[0;34m\u001b[0m\u001b[0;34m\u001b[0m\u001b[0m\n\u001b[0m\u001b[1;32m      5\u001b[0m \u001b[0mprint\u001b[0m\u001b[0;34m(\u001b[0m\u001b[0;34m'Second yield: '\u001b[0m\u001b[0;34m,\u001b[0m \u001b[0mq2\u001b[0m\u001b[0;34m)\u001b[0m\u001b[0;34m\u001b[0m\u001b[0;34m\u001b[0m\u001b[0m\n\u001b[1;32m      6\u001b[0m \u001b[0mq3\u001b[0m \u001b[0;34m=\u001b[0m \u001b[0mit\u001b[0m\u001b[0;34m.\u001b[0m\u001b[0msend\u001b[0m\u001b[0;34m(\u001b[0m\u001b[0mALIVE\u001b[0m\u001b[0;34m)\u001b[0m\u001b[0;34m\u001b[0m\u001b[0;34m\u001b[0m\u001b[0m\n",
      "\u001b[0;31mNameError\u001b[0m: name 'ALIVE' is not defined"
     ]
    }
   ],
   "source": [
    "it = count_neighbors(10, 5)\n",
    "q1 = next(it)\n",
    "print('Frist yield:  ', q1)\n",
    "q2 = it.send(ALIVE)\n",
    "print('Second yield: ', q2)\n",
    "q3 = it.send(ALIVE)\n",
    "print('Thrid yield:  ', q3)\n",
    "\n",
    "try:\n",
    "    count = it.send(EMPTY)\n",
    "except StopIteration as e:\n",
    "    print('Count: ', e.value)"
   ]
  },
  {
   "cell_type": "code",
   "execution_count": null,
   "metadata": {},
   "outputs": [],
   "source": []
  }
 ],
 "metadata": {
  "kernelspec": {
   "display_name": "Python 3",
   "language": "python",
   "name": "python3"
  },
  "language_info": {
   "codemirror_mode": {
    "name": "ipython",
    "version": 3
   },
   "file_extension": ".py",
   "mimetype": "text/x-python",
   "name": "python",
   "nbconvert_exporter": "python",
   "pygments_lexer": "ipython3",
   "version": "3.8.5"
  }
 },
 "nbformat": 4,
 "nbformat_minor": 4
}
